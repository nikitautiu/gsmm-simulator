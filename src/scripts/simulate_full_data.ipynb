{
 "cells": [
  {
   "cell_type": "code",
   "execution_count": 1,
   "id": "ef11e931-d6f2-4ca2-aa6d-5aa477c9fc74",
   "metadata": {},
   "outputs": [],
   "source": [
    "%load_ext autoreload\n",
    "%autoreload 2\n",
    "\n",
    "import sys\n",
    "from pathlib import Path\n",
    "import copy\n",
    "import random\n",
    "from collections import OrderedDict\n",
    "import pandas as pd\n",
    "import itertools\n",
    "import pprint\n",
    "from pathlib import Path\n",
    "from collections import OrderedDict\n",
    "import json\n",
    "\n",
    "# add the path to \n",
    "if str(Path('../../src').resolve()) not in sys.path:\n",
    "    sys.path.append(str(Path('../../src').resolve()))\n",
    "\n",
    "    \n",
    "import simulator\n",
    "from simulator.utils import set_all_seeds, get_current_seed\n",
    "from simulator.builder import format_results"
   ]
  },
  {
   "cell_type": "markdown",
   "id": "c0d55bbf-a028-4ae4-af03-dfd1254c84f8",
   "metadata": {},
   "source": [
    "## Parameters\n",
    "\n",
    "This section allows fine control over the knockouts, pathways and experimental conditions\n",
    "The 5 sets are the ones necessary to reproduce our results\n",
    "\n",
    "**To reproduce:**\n",
    "\n",
    "- Run each of the sets\n",
    "- (to do the thinning experiment as well), rerun SET 1 at thinning = N where N is in \\[10, 100, 1000, 10000\\]"
   ]
  },
  {
   "cell_type": "code",
   "execution_count": 2,
   "id": "e7e1f0de-77c6-486b-abfb-c2bea02b36b6",
   "metadata": {
    "tags": []
   },
   "outputs": [],
   "source": [
    "# keep None to generate new pathways\n",
    "set_nr = None\n",
    "pathways = None  \n",
    "knockouts = None\n",
    "exp_factors = None\n",
    "\n",
    "\n",
    "pathway_spec = 'D1 P1 P2'\n",
    "microbe_spec = ['H1', 'D2']\n",
    "\n",
    "# number of pathways to insert from each category\n",
    "num_host = 0\n",
    "num_host_microbe = 1\n",
    "num_microbe = 0\n",
    "\n",
    "# the parent directory for the directories with the generated data\n",
    "base_dir = '../../data/benchmark_data'\n",
    "\n",
    "\n",
    "# =================================== SET 1 =================================\n",
    "\n",
    "set_nr = 1 \n",
    "\n",
    "knockouts = [ ['MALt2_2', 'ME1', 'GLUDy'],\n",
    "  ['FBA'],\n",
    "  ['SUCOAS', 'GLUDy'],\n",
    "  ['RPE'],\n",
    "  ['PTAr', 'NADH16'],\n",
    "  ['PYRt2', 'PTAr', 'ACt2r'],\n",
    "  ['H2Ot'],\n",
    "  ['D_LACt2'],\n",
    "  ['FBA', 'FORti'],\n",
    "  ['CO2t', 'NADTRHD']] \n",
    "\n",
    "exp_factors = [ { 'max': -2.4630307886795566,\n",
    "    'min': -25.806095721567843,\n",
    "    'range': 23.343064932888286,\n",
    "    'reaction': 'EX_o2_e'},\n",
    "  { 'max': -0.3004289070069514,\n",
    "    'min': -2.395360661363543,\n",
    "    'range': 2.0949317543565917,\n",
    "    'reaction': 'EX_nh4_e'}] \n",
    "\n",
    "pathways = [ [ ('SYN_D1P1P2_H(1)_M5(0)', [('H', 'ACONTb', 'q8h2', 1)]),\n",
    "    ( 'SYN_D1P1P2_H(1)_M4(1)',\n",
    "      [('H', 'CS', 'q8', 1e-07), ('M4', 'Biomass_Ecoli_core', 'fum', 1)]),\n",
    "    ('SYN_D1P1P2_H(0)_M1(1)', [('M1', 'Biomass_Ecoli_core', 'fum', 1)])]]\n",
    "\n",
    "# ===========================================================================\n",
    "\n",
    "\n",
    "# =================================== SET 2 =================================\n",
    "\n",
    "# set_nr = 2 \n",
    "\n",
    "# n_microbes = 10 \n",
    "\n",
    "# knockouts = [ ['GLUSy', 'ME2', 'AKGt2r'],\n",
    "#   ['PFK'],\n",
    "#   ['GLNabc', 'NADTRHD'],\n",
    "#   ['ME1'],\n",
    "#   ['MDH'],\n",
    "#   ['THD2', 'PFK'],\n",
    "#   ['NADTRHD'],\n",
    "#   ['O2t'],\n",
    "#   ['CYTBD', 'LDH_D', 'GLNabc'],\n",
    "#   ['GLUDy']] \n",
    "\n",
    "# exp_factors = [ { 'max': -4.7602167709771726,\n",
    "#     'min': -28.36163770815508,\n",
    "#     'range': 23.601420937177906,\n",
    "#     'reaction': 'EX_o2_e'},\n",
    "#   { 'max': -0.2101757651856729,\n",
    "#     'min': -2.1583252216171456,\n",
    "#     'range': 1.9481494564314727,\n",
    "#     'reaction': 'EX_nh4_e'}] \n",
    "\n",
    "# pathways = [ [ ('SYN_D1P1P2_H(1)_M4(0)', [('H', 'ACONTb', 'q8h2', 1)]),\n",
    "#     ( 'SYN_D1P1P2_H(1)_M4(1)',\n",
    "#       [('H', 'CS', 'q8h2', 1e-07), ('M4', 'Biomass_Ecoli_core', 'q8h2', 1)]),\n",
    "#     ('SYN_D1P1P2_H(0)_M9(1)', [('M9', 'Biomass_Ecoli_core', 'fdp', 1)])]]\n",
    "\n",
    "# ===========================================================================\n",
    "\n",
    "\n",
    "# =================================== SET 3 =================================\n",
    "\n",
    "# set_nr = 3 \n",
    "\n",
    "# n_microbes = 10 \n",
    "\n",
    "# knockouts = [ ['MALt2_2', 'PGI'],\n",
    "#   ['ACKr'],\n",
    "#   ['ALCD2x', 'FORt2', 'GLNabc'],\n",
    "#   ['TKT1', 'D_LACt2'],\n",
    "#   ['GLUSy', 'THD2'],\n",
    "#   ['PGL', 'GND', 'NADTRHD'],\n",
    "#   ['ME2', 'ACt2r', 'ICL'],\n",
    "#   ['H2Ot', 'PPC'],\n",
    "#   ['FUM'],\n",
    "#   ['GLNabc']] \n",
    "\n",
    "# exp_factors = [ { 'max': -11.121518597075633,\n",
    "#     'min': -29.003419943495203,\n",
    "#     'range': 17.881901346419568,\n",
    "#     'reaction': 'EX_o2_e'},\n",
    "#   { 'max': -1.2605999878109293,\n",
    "#     'min': -1.7833867423727712,\n",
    "#     'range': 0.5227867545618419,\n",
    "#     'reaction': 'EX_nh4_e'}] \n",
    "\n",
    "# pathways = [ [ ('SYN_D1P1P2_H(1)_M0(0)', [('H', 'MDH', 'q8h2', 1)]),\n",
    "#     ( 'SYN_D1P1P2_H(1)_M0(1)',\n",
    "#       [('H', 'ATPM', 'succ', 1e-07), ('M0', 'Biomass_Ecoli_core', 'q8', 1)]),\n",
    "#     ('SYN_D1P1P2_H(0)_M8(1)', [('M8', 'Biomass_Ecoli_core', 'q8', 1)])]]\n",
    "\n",
    "# ===========================================================================\n",
    "\n",
    "\n",
    "# =================================== SET 4 =================================\n",
    "\n",
    "# set_nr = 4 \n",
    "\n",
    "# n_microbes = 10 \n",
    "\n",
    "# knockouts = [ ['PDH'],\n",
    "#   ['GLUN', 'NADH16', 'RPE'],\n",
    "#   ['FORt2', 'ADK1'],\n",
    "#   ['O2t'],\n",
    "#   ['FRUpts2', 'ATPS4r'],\n",
    "#   ['FBA', 'MALS', 'PYRt2'],\n",
    "#   ['G6PDH2r', 'LDH_D'],\n",
    "#   ['PTAr', 'TKT1'],\n",
    "#   ['PPS', 'CO2t'],\n",
    "#   ['FORti']] \n",
    "\n",
    "# exp_factors = [ { 'max': -5.5518261048754,\n",
    "#     'min': -31.871969502748826,\n",
    "#     'range': 26.320143397873426,\n",
    "#     'reaction': 'EX_o2_e'},\n",
    "#   { 'max': -0.1622362402981664,\n",
    "#     'min': -1.5977099588524901,\n",
    "#     'range': 1.4354737185543236,\n",
    "#     'reaction': 'EX_nh4_e'}] \n",
    "\n",
    "# pathways = [ [ ('SYN_D1P1P2_H(1)_M5(0)', [('H', 'ICDHyr', 'q8h2', 1)]),\n",
    "#     ( 'SYN_D1P1P2_H(1)_M5(1)',\n",
    "#       [ ('H', 'ACONTb', '13dpg', 1e-07),\n",
    "#         ('M5', 'Biomass_Ecoli_core', 'fum', 1)]),\n",
    "#     ('SYN_D1P1P2_H(0)_M9(1)', [('M9', 'Biomass_Ecoli_core', 'accoa', 1)])]]\n",
    "\n",
    "# ===========================================================================\n",
    "\n",
    "\n",
    "# =================================== SET 5 =================================\n",
    "\n",
    "# set_nr = 5 \n",
    "\n",
    "# n_microbes = 10 \n",
    "\n",
    "# knockouts = [ ['MALt2_2', 'ME1', 'GLUDy'],\n",
    "#   ['FBA'],\n",
    "#   ['SUCOAS', 'GLUDy'],\n",
    "#   ['RPE'],\n",
    "#   ['PTAr', 'NADH16'],\n",
    "#   ['PYRt2', 'PTAr', 'ACt2r'],\n",
    "#   ['H2Ot'],\n",
    "#   ['D_LACt2'],\n",
    "#   ['FBA', 'FORti'],\n",
    "#   ['CO2t', 'NADTRHD']] \n",
    "\n",
    "# exp_factors = [ { 'max': -2.4630307886795566,\n",
    "#     'min': -25.806095721567843,\n",
    "#     'range': 23.343064932888286,\n",
    "#     'reaction': 'EX_o2_e'},\n",
    "#   { 'max': -0.3004289070069514,\n",
    "#     'min': -2.395360661363543,\n",
    "#     'range': 2.0949317543565917,\n",
    "#     'reaction': 'EX_nh4_e'}] \n",
    "\n",
    "# pathways = [ [ ('SYN_D1P1P2_H(1)_M5(0)', [('H', 'ACONTb', 'q8h2', 1)]),\n",
    "#     ( 'SYN_D1P1P2_H(1)_M4(1)',\n",
    "#       [('H', 'CS', 'q8', 1e-07), ('M4', 'Biomass_Ecoli_core', 'fum', 1)]),\n",
    "#     ('SYN_D1P1P2_H(0)_M1(1)', [('M1', 'Biomass_Ecoli_core', 'fum', 1)])]]\n",
    "\n",
    "# ==========================================================================="
   ]
  },
  {
   "cell_type": "markdown",
   "id": "00c3416a-0730-417a-a3cd-0b51fef66293",
   "metadata": {},
   "source": [
    "### Additional parameters\n",
    "\n",
    "Here we have other parameters of the simulation.\n",
    "If in doubt, don't change anything.\n",
    "\n",
    "**Relevant parameters:**\n",
    "- `margins` - the deltas to run the code with\n",
    "- `thinning` - thinning parameter\n",
    "- `n_samples` - how many replicates per experimental condition"
   ]
  },
  {
   "cell_type": "code",
   "execution_count": 3,
   "id": "dd918df5-049a-4540-af8b-764f8babd000",
   "metadata": {},
   "outputs": [
    {
     "data": {
      "text/plain": [
       "'../../data/benchmark_data/SET1_L2_M10_T10'"
      ]
     },
     "execution_count": 3,
     "metadata": {},
     "output_type": "execute_result"
    }
   ],
   "source": [
    "# set the seed for reproducibility\n",
    "SEED = 42\n",
    "set_all_seeds(SEED)\n",
    "\n",
    "\n",
    "n_sets = 1  # do not change - keep for reproducibility\n",
    "n_microbes = 10\n",
    "n_levels = 2\n",
    "sets_of_samples = 1\n",
    "margins = [0.01, 0.1, 0.25, 0.5]  # generates all the specified margins\n",
    "# margins = [1000]  # unbounded generation - just played with this \n",
    "\n",
    "prod_coeff = 1  # overridden if using hardcoded pathways\n",
    "\n",
    "n_samples = 100\n",
    "range_n_samples = 100\n",
    "n_batches = 1  # sub batches\n",
    "thinning = 10\n",
    "clamp_all = False\n",
    "designer_min_growth = 1e-6\n",
    "final_min_growth = 1e-5\n",
    "\n",
    "n_proc = 8  # scale down if running out of memory\n",
    "\n",
    "# create a path prefix - margin will be appended to this\n",
    "if set_nr is not None:\n",
    "    # set_nr is used for \n",
    "    path_prefix = f'{base_dir}/SET{set_nr}_L{n_levels}_M{n_microbes}_T{thinning}'\n",
    "else:\n",
    "    path_prefix = f'{base_dir}/L{n_levels}_M{n_microbes}_T{thinning}'\n",
    "path_prefix"
   ]
  },
  {
   "cell_type": "markdown",
   "id": "9c8348f4-9bb7-4406-82e2-0f8622b173a7",
   "metadata": {},
   "source": [
    "### Knockouts\n",
    "Run the knockout algorithm and print the knockouts used. Useful for debugginf or hardcoding."
   ]
  },
  {
   "cell_type": "code",
   "execution_count": 4,
   "id": "7bfcb8c3-1529-414b-9cf2-e8b224ba2c46",
   "metadata": {},
   "outputs": [],
   "source": [
    "# minimal growth microbes\n",
    "mods, dist, microbes, knockouts = simulator.make_models(\n",
    "    n_microbes, knockouts=(1, 4), \n",
    "    min_growth=designer_min_growth,\n",
    "    knockout_genes=knockouts  # pass the knockouts\n",
    ")  "
   ]
  },
  {
   "cell_type": "markdown",
   "id": "369de10f-aabd-4c05-9d55-85ae838b335c",
   "metadata": {},
   "source": [
    "### Community model assembly"
   ]
  },
  {
   "cell_type": "code",
   "execution_count": 5,
   "id": "14b8c03e-3933-47a2-a52b-a13478c1efc6",
   "metadata": {},
   "outputs": [
    {
     "data": {
      "application/vnd.jupyter.widget-view+json": {
       "model_id": "2fa7f73558384652bc3d23ae1137320f",
       "version_major": 2,
       "version_minor": 0
      },
      "text/plain": [
       "Output()"
      ]
     },
     "metadata": {},
     "output_type": "display_data"
    },
    {
     "data": {
      "text/html": [
       "<pre style=\"white-space:pre;overflow-x:auto;line-height:normal;font-family:Menlo,'DejaVu Sans Mono',consolas,'Courier New',monospace\"></pre>\n"
      ],
      "text/plain": []
     },
     "metadata": {},
     "output_type": "display_data"
    },
    {
     "data": {
      "text/html": [
       "<pre style=\"white-space:pre;overflow-x:auto;line-height:normal;font-family:Menlo,'DejaVu Sans Mono',consolas,'Courier New',monospace\">\n",
       "</pre>\n"
      ],
      "text/plain": [
       "\n"
      ]
     },
     "metadata": {},
     "output_type": "display_data"
    }
   ],
   "source": [
    "# create the global community model\n",
    "models = {\n",
    "    m.id: m for m in mods\n",
    "}\n",
    "abundances = {\n",
    "    m.id: v for m, v in zip(mods, dist)\n",
    "}\n",
    "microbes = list(m.id for m in mods)[1:]\n",
    "\n",
    "\n",
    "com = simulator.HostComModel(\n",
    "    models=models,\n",
    "    abundances=abundances, \n",
    "    microbe_taxa=microbes, \n",
    "    max_exchange=100\n",
    ")\n",
    "community = copy.deepcopy(com)\n"
   ]
  },
  {
   "cell_type": "markdown",
   "id": "e32fc787-8113-4fd6-bacf-01a33663b7a1",
   "metadata": {},
   "source": [
    "### Experimental design preprocessing"
   ]
  },
  {
   "cell_type": "code",
   "execution_count": 6,
   "id": "1280b91f-2acd-488f-a3c4-2766f969a502",
   "metadata": {},
   "outputs": [
    {
     "name": "stdout",
     "output_type": "stream",
     "text": [
      "FROM COMMUNITY MODEL:\n",
      "   reaction        min       max      range\n",
      "0   EX_o2_e -25.806096 -2.463031  23.343065\n",
      "1  EX_nh4_e  -2.395361 -0.300429   2.094932\n",
      "COMMUNITY MODEL SAMPLING\n",
      "proc=1 inner_proc=8 total_inner_samps=1000\n",
      "Started: [('EX_o2_m', 0.0, -2.4630307886795566), ('EX_nh4_m', 0.0, -0.3004289070069514)]\n"
     ]
    },
    {
     "data": {
      "text/html": [
       "<pre style=\"white-space:pre;overflow-x:auto;line-height:normal;font-family:Menlo,'DejaVu Sans Mono',consolas,'Courier New',monospace\"><span style=\"color: #7fbfbf; text-decoration-color: #7fbfbf\">[18:18:14] </span><span style=\"color: #800000; text-decoration-color: #800000\">WARNING </span> margin set to &gt; <span style=\"color: #008080; text-decoration-color: #008080; font-weight: bold\">1</span> and growth rates was passed                            <a href=\"file:///home/rstudio/project/src/simulator/community_model.py\" target=\"_blank\"><span style=\"color: #7f7f7f; text-decoration-color: #7f7f7f\">community_model.py</span></a><span style=\"color: #7f7f7f; text-decoration-color: #7f7f7f\">:</span><a href=\"file:///home/rstudio/project/src/simulator/community_model.py#422\" target=\"_blank\"><span style=\"color: #7f7f7f; text-decoration-color: #7f7f7f\">422</span></a>\n",
       "</pre>\n"
      ],
      "text/plain": [
       "\u001b[2;36m[18:18:14]\u001b[0m\u001b[2;36m \u001b[0m\u001b[31mWARNING \u001b[0m margin set to > \u001b[1;36m1\u001b[0m and growth rates was passed                            \u001b]8;id=234053;file:///home/rstudio/project/src/simulator/community_model.py\u001b\\\u001b[2mcommunity_model.py\u001b[0m\u001b]8;;\u001b\\\u001b[2m:\u001b[0m\u001b]8;id=146316;file:///home/rstudio/project/src/simulator/community_model.py#422\u001b\\\u001b[2m422\u001b[0m\u001b]8;;\u001b\\\n"
      ]
     },
     "metadata": {},
     "output_type": "display_data"
    },
    {
     "data": {
      "application/vnd.jupyter.widget-view+json": {
       "model_id": "14fae08a4d1544bc8db7a0028ff52fc7",
       "version_major": 2,
       "version_minor": 0
      },
      "text/plain": [
       "Output()"
      ]
     },
     "metadata": {},
     "output_type": "display_data"
    },
    {
     "data": {
      "text/html": [
       "<pre style=\"white-space:pre;overflow-x:auto;line-height:normal;font-family:Menlo,'DejaVu Sans Mono',consolas,'Courier New',monospace\"></pre>\n"
      ],
      "text/plain": []
     },
     "metadata": {},
     "output_type": "display_data"
    },
    {
     "data": {
      "text/html": [
       "<pre style=\"white-space:pre;overflow-x:auto;line-height:normal;font-family:Menlo,'DejaVu Sans Mono',consolas,'Courier New',monospace\">\n",
       "</pre>\n"
      ],
      "text/plain": [
       "\n"
      ]
     },
     "metadata": {},
     "output_type": "display_data"
    },
    {
     "name": "stdout",
     "output_type": "stream",
     "text": [
      "Started: [('EX_o2_m', 0.0, -2.4630307886795566), ('EX_nh4_m', 1.0, -2.395360661363543)]\n"
     ]
    },
    {
     "data": {
      "text/html": [
       "<pre style=\"white-space:pre;overflow-x:auto;line-height:normal;font-family:Menlo,'DejaVu Sans Mono',consolas,'Courier New',monospace\"><span style=\"color: #7fbfbf; text-decoration-color: #7fbfbf\">[18:18:35] </span><span style=\"color: #800000; text-decoration-color: #800000\">WARNING </span> margin set to &gt; <span style=\"color: #008080; text-decoration-color: #008080; font-weight: bold\">1</span> and growth rates was passed                            <a href=\"file:///home/rstudio/project/src/simulator/community_model.py\" target=\"_blank\"><span style=\"color: #7f7f7f; text-decoration-color: #7f7f7f\">community_model.py</span></a><span style=\"color: #7f7f7f; text-decoration-color: #7f7f7f\">:</span><a href=\"file:///home/rstudio/project/src/simulator/community_model.py#422\" target=\"_blank\"><span style=\"color: #7f7f7f; text-decoration-color: #7f7f7f\">422</span></a>\n",
       "</pre>\n"
      ],
      "text/plain": [
       "\u001b[2;36m[18:18:35]\u001b[0m\u001b[2;36m \u001b[0m\u001b[31mWARNING \u001b[0m margin set to > \u001b[1;36m1\u001b[0m and growth rates was passed                            \u001b]8;id=935518;file:///home/rstudio/project/src/simulator/community_model.py\u001b\\\u001b[2mcommunity_model.py\u001b[0m\u001b]8;;\u001b\\\u001b[2m:\u001b[0m\u001b]8;id=571858;file:///home/rstudio/project/src/simulator/community_model.py#422\u001b\\\u001b[2m422\u001b[0m\u001b]8;;\u001b\\\n"
      ]
     },
     "metadata": {},
     "output_type": "display_data"
    },
    {
     "data": {
      "application/vnd.jupyter.widget-view+json": {
       "model_id": "28faf29c7c0c4e048a0b245fdaf16326",
       "version_major": 2,
       "version_minor": 0
      },
      "text/plain": [
       "Output()"
      ]
     },
     "metadata": {},
     "output_type": "display_data"
    },
    {
     "data": {
      "text/html": [
       "<pre style=\"white-space:pre;overflow-x:auto;line-height:normal;font-family:Menlo,'DejaVu Sans Mono',consolas,'Courier New',monospace\"></pre>\n"
      ],
      "text/plain": []
     },
     "metadata": {},
     "output_type": "display_data"
    },
    {
     "data": {
      "text/html": [
       "<pre style=\"white-space:pre;overflow-x:auto;line-height:normal;font-family:Menlo,'DejaVu Sans Mono',consolas,'Courier New',monospace\">\n",
       "</pre>\n"
      ],
      "text/plain": [
       "\n"
      ]
     },
     "metadata": {},
     "output_type": "display_data"
    },
    {
     "name": "stdout",
     "output_type": "stream",
     "text": [
      "Started: [('EX_o2_m', 1.0, -25.806095721567843), ('EX_nh4_m', 0.0, -0.3004289070069514)]\n"
     ]
    },
    {
     "data": {
      "text/html": [
       "<pre style=\"white-space:pre;overflow-x:auto;line-height:normal;font-family:Menlo,'DejaVu Sans Mono',consolas,'Courier New',monospace\"><span style=\"color: #7fbfbf; text-decoration-color: #7fbfbf\">[18:18:56] </span><span style=\"color: #800000; text-decoration-color: #800000\">WARNING </span> margin set to &gt; <span style=\"color: #008080; text-decoration-color: #008080; font-weight: bold\">1</span> and growth rates was passed                            <a href=\"file:///home/rstudio/project/src/simulator/community_model.py\" target=\"_blank\"><span style=\"color: #7f7f7f; text-decoration-color: #7f7f7f\">community_model.py</span></a><span style=\"color: #7f7f7f; text-decoration-color: #7f7f7f\">:</span><a href=\"file:///home/rstudio/project/src/simulator/community_model.py#422\" target=\"_blank\"><span style=\"color: #7f7f7f; text-decoration-color: #7f7f7f\">422</span></a>\n",
       "</pre>\n"
      ],
      "text/plain": [
       "\u001b[2;36m[18:18:56]\u001b[0m\u001b[2;36m \u001b[0m\u001b[31mWARNING \u001b[0m margin set to > \u001b[1;36m1\u001b[0m and growth rates was passed                            \u001b]8;id=31244;file:///home/rstudio/project/src/simulator/community_model.py\u001b\\\u001b[2mcommunity_model.py\u001b[0m\u001b]8;;\u001b\\\u001b[2m:\u001b[0m\u001b]8;id=98246;file:///home/rstudio/project/src/simulator/community_model.py#422\u001b\\\u001b[2m422\u001b[0m\u001b]8;;\u001b\\\n"
      ]
     },
     "metadata": {},
     "output_type": "display_data"
    },
    {
     "data": {
      "application/vnd.jupyter.widget-view+json": {
       "model_id": "1069541b14684723961f97324254e366",
       "version_major": 2,
       "version_minor": 0
      },
      "text/plain": [
       "Output()"
      ]
     },
     "metadata": {},
     "output_type": "display_data"
    },
    {
     "data": {
      "text/html": [
       "<pre style=\"white-space:pre;overflow-x:auto;line-height:normal;font-family:Menlo,'DejaVu Sans Mono',consolas,'Courier New',monospace\"></pre>\n"
      ],
      "text/plain": []
     },
     "metadata": {},
     "output_type": "display_data"
    },
    {
     "data": {
      "text/html": [
       "<pre style=\"white-space:pre;overflow-x:auto;line-height:normal;font-family:Menlo,'DejaVu Sans Mono',consolas,'Courier New',monospace\">\n",
       "</pre>\n"
      ],
      "text/plain": [
       "\n"
      ]
     },
     "metadata": {},
     "output_type": "display_data"
    },
    {
     "name": "stdout",
     "output_type": "stream",
     "text": [
      "Started: [('EX_o2_m', 1.0, -25.806095721567843), ('EX_nh4_m', 1.0, -2.395360661363543)]\n"
     ]
    },
    {
     "data": {
      "text/html": [
       "<pre style=\"white-space:pre;overflow-x:auto;line-height:normal;font-family:Menlo,'DejaVu Sans Mono',consolas,'Courier New',monospace\"><span style=\"color: #7fbfbf; text-decoration-color: #7fbfbf\">[18:19:18] </span><span style=\"color: #800000; text-decoration-color: #800000\">WARNING </span> margin set to &gt; <span style=\"color: #008080; text-decoration-color: #008080; font-weight: bold\">1</span> and growth rates was passed                            <a href=\"file:///home/rstudio/project/src/simulator/community_model.py\" target=\"_blank\"><span style=\"color: #7f7f7f; text-decoration-color: #7f7f7f\">community_model.py</span></a><span style=\"color: #7f7f7f; text-decoration-color: #7f7f7f\">:</span><a href=\"file:///home/rstudio/project/src/simulator/community_model.py#422\" target=\"_blank\"><span style=\"color: #7f7f7f; text-decoration-color: #7f7f7f\">422</span></a>\n",
       "</pre>\n"
      ],
      "text/plain": [
       "\u001b[2;36m[18:19:18]\u001b[0m\u001b[2;36m \u001b[0m\u001b[31mWARNING \u001b[0m margin set to > \u001b[1;36m1\u001b[0m and growth rates was passed                            \u001b]8;id=27824;file:///home/rstudio/project/src/simulator/community_model.py\u001b\\\u001b[2mcommunity_model.py\u001b[0m\u001b]8;;\u001b\\\u001b[2m:\u001b[0m\u001b]8;id=588508;file:///home/rstudio/project/src/simulator/community_model.py#422\u001b\\\u001b[2m422\u001b[0m\u001b]8;;\u001b\\\n"
      ]
     },
     "metadata": {},
     "output_type": "display_data"
    },
    {
     "data": {
      "application/vnd.jupyter.widget-view+json": {
       "model_id": "cb406577db1f4e929a3ea09ae95b10dc",
       "version_major": 2,
       "version_minor": 0
      },
      "text/plain": [
       "Output()"
      ]
     },
     "metadata": {},
     "output_type": "display_data"
    },
    {
     "data": {
      "text/html": [
       "<pre style=\"white-space:pre;overflow-x:auto;line-height:normal;font-family:Menlo,'DejaVu Sans Mono',consolas,'Courier New',monospace\"></pre>\n"
      ],
      "text/plain": []
     },
     "metadata": {},
     "output_type": "display_data"
    },
    {
     "data": {
      "text/html": [
       "<pre style=\"white-space:pre;overflow-x:auto;line-height:normal;font-family:Menlo,'DejaVu Sans Mono',consolas,'Courier New',monospace\">\n",
       "</pre>\n"
      ],
      "text/plain": [
       "\n"
      ]
     },
     "metadata": {},
     "output_type": "display_data"
    },
    {
     "name": "stderr",
     "output_type": "stream",
     "text": [
      "100%|██████████| 11/11 [01:47<00:00,  9.81s/it]"
     ]
    },
    {
     "name": "stdout",
     "output_type": "stream",
     "text": [
      "CPU times: user 3min 25s, sys: 18 s, total: 3min 43s\n",
      "Wall time: 3min 14s\n"
     ]
    },
    {
     "name": "stderr",
     "output_type": "stream",
     "text": [
      "\n"
     ]
    }
   ],
   "source": [
    "%%time\n",
    "\n",
    "exp_designer = simulator.ExperimentalDesigner(\n",
    "    models=com, n_proc=n_proc, n_samples=range_n_samples, \n",
    "    range_n_samples=range_n_samples, n_batches=n_batches, \n",
    "    thinning=thinning, save_samples=True,\n",
    "    condition_limit=2,  # just 2 \n",
    "    min_growth=designer_min_growth,\n",
    "    exp_factors=exp_factors,  # pass the exp factors\n",
    "    pre_scale=True,\n",
    "    margin = 1000  # basically no cap\n",
    ")"
   ]
  },
  {
   "cell_type": "markdown",
   "id": "73807540-b7bf-42f3-aa1d-a9ca053753f8",
   "metadata": {},
   "source": [
    "Print the conditions for debug."
   ]
  },
  {
   "cell_type": "code",
   "execution_count": 7,
   "id": "37313cde",
   "metadata": {},
   "outputs": [
    {
     "data": {
      "text/plain": [
       "[{'reaction': 'EX_o2_e',\n",
       "  'min': -25.806095721567843,\n",
       "  'max': -2.4630307886795566,\n",
       "  'range': 23.343064932888286},\n",
       " {'reaction': 'EX_nh4_e',\n",
       "  'min': -2.395360661363543,\n",
       "  'max': -0.3004289070069514,\n",
       "  'range': 2.0949317543565917}]"
      ]
     },
     "execution_count": 7,
     "metadata": {},
     "output_type": "execute_result"
    }
   ],
   "source": [
    "exp_designer._exp_factors.iloc[:2].to_dict(orient='records')"
   ]
  },
  {
   "cell_type": "code",
   "execution_count": 8,
   "id": "defb31bd-9bdd-4da7-8419-a0f856a023c1",
   "metadata": {},
   "outputs": [],
   "source": [
    "def create_specs(n_sets=3, n_h=1, n_h_hm=1, n_m_hm=1, n_m=1, spec='I1 H0 P1 P2', microbe_spec='H P', microbe_org_spec=['H0', 'H0']):\n",
    "    # empty specs\n",
    "    specs = []\n",
    "    existing_specs = set()\n",
    "    existing_microbes = set()\n",
    "    \n",
    "    for _ in range(n_sets):\n",
    "        for diff_exp, microbe_rxn_diff_exp in zip([spec], [microbe_spec]):\n",
    "        # for diff_exp, microbe_diff_exp in zip(['D1 C2 P1 P2'], ['H1 L2']):\n",
    "            # 1-2 host, 1-2 x 1-2 host microbe, 1-2 microbe\n",
    "            for host_len , microbe_len in (\n",
    "                list(itertools.product(range(1, n_h + 1), [0])) + \n",
    "                list(itertools.product(range(1, n_h_hm + 1), range(1, n_m_hm + 1))) + \n",
    "                list(itertools.product([0], range(1, n_m + 1)))\n",
    "            ): \n",
    "                    name = None\n",
    "                    while name is None or name in existing_specs:\n",
    "                        # get microbes that are diff expressed between conditions\n",
    "                        microbe_set = []\n",
    "                        \n",
    "                        # first is if it's just microbes, else it's second\n",
    "                        microbe_diff_exp = microbe_org_spec[0 if host_len != 0 else 1]\n",
    "                        microbe_set = exp_designer.get_target(microbe_diff_exp, by='organism').sort_values('rank_prod', ascending=False)\n",
    "                        microbe_set = microbe_set.loc[(microbe_set.organism != 'H') & \n",
    "                                                      (~microbe_set.organism.isin(existing_microbes))].iloc[:n_sets*3] # get the first 3 highest rank microbes\n",
    "                        assert(len(microbe_set) != 0)\n",
    "                        # get the top microbe names and their ranks as probabilities\n",
    "                        microbes = list(microbe_set['organism'])\n",
    "                        probs = list(microbe_set['rank_prod'] / microbe_set['rank_prod'].sum())\n",
    "                        \n",
    "                        # microbe = random.sample([f'M{i}' for i in range(n_microbes)], k=4)[0]\n",
    "                        microbe = random.sample(microbes, k=1)[0]\n",
    "                        if microbe_len != 0:\n",
    "                            existing_microbes.add(microbe)  # add it to the set of used microbes\n",
    "                        \n",
    "                        # get the name for the pathway\n",
    "                        name = f'SYN_{diff_exp.strip().replace(\" \" , \"\")}_H({host_len})_{microbe}({microbe_len})'\n",
    "                        \n",
    "                        print(name, microbe_diff_exp)\n",
    "                    existing_specs.add(name)  # add to all specs\n",
    "                    orgs = ['H'] * host_len + [microbe] * microbe_len  # organisms it spans\n",
    "\n",
    "                    coeff = prod_coeff  # duplicated at each step\n",
    "\n",
    "                    # add to the specs\n",
    "                    if host_len != 0 or microbe_len != 0:\n",
    "                        # specs += [(name, diff_exp, orgs, coeff)] \n",
    "                        specs += [(name, [diff_exp] * host_len + [microbe_rxn_diff_exp] * microbe_len, orgs, coeff)] \n",
    "\n",
    "    return specs\n",
    "    \n",
    "    \n",
    "def insert_spec(com, exp_designer, specs):\n",
    "    \"\"\"Format the specifications into a json-outputtable format\"\"\"\n",
    "    results_full = OrderedDict()\n",
    "    \n",
    "    # log all inserted reactions so we don't reinsert them\n",
    "    all_reactions = []\n",
    "    \n",
    "    # iterate them\n",
    "    for name, exp_spec, pathway, coeff in specs:\n",
    "        # get the results \n",
    "        res = simulator.add_pathway(com, exp_designer, name, exp_spec=exp_spec,\n",
    "                                    pathway=pathway, prod_coeff=coeff, prev_rxns=all_reactions,\n",
    "                                    microbe_coeff=1e-7)\n",
    "\n",
    "        formatted_res = format_results(res) \n",
    "        all_reactions += copy.copy(formatted_res['reactions'])\n",
    "        # print(all_reactions)\n",
    "\n",
    "        # add the metadata\n",
    "        formatted_res['name'] = name\n",
    "        formatted_res['spec'] = exp_spec\n",
    "\n",
    "        # results\n",
    "        results_full[name] = formatted_res\n",
    "    \n",
    "    return results_full    \n",
    "\n",
    "\n",
    "def insert_fixes_pathways(com, specs):\n",
    "    \"\"\"Format the specifications into a json-outputtable format\"\"\"\n",
    "    results_full = OrderedDict()\n",
    "    \n",
    "    # iterate them\n",
    "    for name, pathway in specs:\n",
    "        # get the results \n",
    "        res = simulator.add_fixed_pathway(com, name, pathway)\n",
    "\n",
    "        formatted_res = format_results(res) \n",
    "\n",
    "        # add the metadata\n",
    "        formatted_res['name'] = name\n",
    "\n",
    "        # results\n",
    "        results_full[name] = formatted_res\n",
    "    \n",
    "    return results_full  \n",
    "\n",
    "\n",
    "def simulate_and_save(path_prefix, com, thinning, levels=3, conditions=2, results_full=None, margin=0.25):\n",
    "    \"\"\"Given a path prefix, simulate data and save everything\"\"\"\n",
    "    # get the samples\n",
    "    data = simulator.sample_across_conditions(com, exp_designer, conditions=conditions, levels=levels, \n",
    "                                              n_samples=n_samples, n_proc=n_proc, \n",
    "                                              sim_kwargs=dict(min_growth=final_min_growth),\n",
    "                                              samp_kwargs=dict(thinning=thinning, n_batches=n_batches, clamp_all=clamp_all, margin=margin))\n",
    "\n",
    "\n",
    "    metab_prod_fluxes = simulator.get_unsummed_metab_fluxes(com, data)  # metabolite production fluxes in medium\n",
    "    biomass_fluxes = simulator.get_biomass_fluxes(com, data) \n",
    "    biomass_fluxes_rel = simulator.get_biomass_fluxes(com, data, relative=True) \n",
    "    internal_fluxes = simulator.get_internal_fluxes(com, data, 'H')  # for host\n",
    "    internal_gene_fluxes = simulator.get_internal_gene_fluxes(com, data, 'H')  # for host\n",
    "\n",
    "    # create destination\n",
    "    Path(path_prefix).mkdir(parents=True, exist_ok=True)\n",
    "    \n",
    "    # pathway specs\n",
    "    with open(path_prefix + 'pathways.json', 'w') as f:\n",
    "        json.dump(results_full, f, indent=2, sort_keys=True)\n",
    "\n",
    "    # csv data\n",
    "    data.to_csv(path_prefix + 'raw_data.csv', index=False)\n",
    "    metab_prod_fluxes.to_csv(path_prefix + 'metabs.csv', index=False)\n",
    "    biomass_fluxes.to_csv(path_prefix + 'biomass.csv', index=False)\n",
    "    biomass_fluxes_rel.to_csv(path_prefix + 'biomass_rel.csv', index=False)\n",
    "    internal_fluxes.to_csv(path_prefix + 'internal.csv', index=False)\n",
    "    internal_gene_fluxes.to_csv(path_prefix + 'internal_gene.csv', index=False)\n",
    "    \n",
    "    return data"
   ]
  },
  {
   "cell_type": "markdown",
   "id": "66282622-c396-4e82-970c-b45434bd2a3d",
   "metadata": {},
   "source": [
    "Add the pathways from the specs"
   ]
  },
  {
   "cell_type": "markdown",
   "id": "8c075c7e-547e-4d95-b9c8-800b40864251",
   "metadata": {},
   "source": [
    "## Simulation\n",
    "\n",
    "Run the simulation across the conditions"
   ]
  },
  {
   "cell_type": "code",
   "execution_count": 9,
   "id": "28444c6f-dfe4-4906-a38f-fcbf3d70e84c",
   "metadata": {
    "tags": []
   },
   "outputs": [
    {
     "name": "stderr",
     "output_type": "stream",
     "text": [
      "<timed exec>:10: SyntaxWarning: assertion is always true, perhaps remove parentheses?\n"
     ]
    },
    {
     "name": "stdout",
     "output_type": "stream",
     "text": [
      "Automatic pdb calling has been turned OFF\n",
      "======================================== GENERATING FOR: 101 -- [[('SYN_D1P1P2_H(1)_M5(0)', [('H', 'ACONTb', 'q8h2', 1)])]] -- ../../data/benchmark_data/SET101_L2_M10_T10 ======================================== \n",
      "\n",
      "\n",
      "\n",
      "\n",
      "Try number 0 margin = 0.01\n",
      "ACONTb q8h2\n"
     ]
    },
    {
     "data": {
      "text/html": [
       "<pre style=\"white-space:pre;overflow-x:auto;line-height:normal;font-family:Menlo,'DejaVu Sans Mono',consolas,'Courier New',monospace\"><span style=\"color: #7fbfbf; text-decoration-color: #7fbfbf\">[18:21:28] </span><span style=\"color: #800000; text-decoration-color: #800000\">WARNING </span> Could not identify an external compartment by name and choosing one with   <a href=\"file:///opt/conda/envs/biotools/lib/python3.7/site-packages/cobra/medium/boundary_types.py\" target=\"_blank\"><span style=\"color: #7f7f7f; text-decoration-color: #7f7f7f\">boundary_types.py</span></a><span style=\"color: #7f7f7f; text-decoration-color: #7f7f7f\">:</span><a href=\"file:///opt/conda/envs/biotools/lib/python3.7/site-packages/cobra/medium/boundary_types.py#91\" target=\"_blank\"><span style=\"color: #7f7f7f; text-decoration-color: #7f7f7f\">91</span></a>\n",
       "<span style=\"color: #7fbfbf; text-decoration-color: #7fbfbf\">           </span>         the most boundary reactions. That might be complete nonsense or change     <span style=\"color: #7f7f7f; text-decoration-color: #7f7f7f\">                    </span>\n",
       "<span style=\"color: #7fbfbf; text-decoration-color: #7fbfbf\">           </span>         suddenly. Consider renaming your compartments using `Model.compartments`   <span style=\"color: #7f7f7f; text-decoration-color: #7f7f7f\">                    </span>\n",
       "<span style=\"color: #7fbfbf; text-decoration-color: #7fbfbf\">           </span>         to fix this.                                                               <span style=\"color: #7f7f7f; text-decoration-color: #7f7f7f\">                    </span>\n",
       "</pre>\n"
      ],
      "text/plain": [
       "\u001b[2;36m[18:21:28]\u001b[0m\u001b[2;36m \u001b[0m\u001b[31mWARNING \u001b[0m Could not identify an external compartment by name and choosing one with   \u001b]8;id=124554;file:///opt/conda/envs/biotools/lib/python3.7/site-packages/cobra/medium/boundary_types.py\u001b\\\u001b[2mboundary_types.py\u001b[0m\u001b]8;;\u001b\\\u001b[2m:\u001b[0m\u001b]8;id=354478;file:///opt/conda/envs/biotools/lib/python3.7/site-packages/cobra/medium/boundary_types.py#91\u001b\\\u001b[2m91\u001b[0m\u001b]8;;\u001b\\\n",
       "\u001b[2;36m           \u001b[0m         the most boundary reactions. That might be complete nonsense or change     \u001b[2m                    \u001b[0m\n",
       "\u001b[2;36m           \u001b[0m         suddenly. Consider renaming your compartments using `Model.compartments`   \u001b[2m                    \u001b[0m\n",
       "\u001b[2;36m           \u001b[0m         to fix this.                                                               \u001b[2m                    \u001b[0m\n"
      ]
     },
     "metadata": {},
     "output_type": "display_data"
    },
    {
     "name": "stdout",
     "output_type": "stream",
     "text": [
      "[[('SYN_D1P1P2_H(1)_M5(0)', [('H', 'ACONTb', 'q8h2', 1)])]]\n",
      "proc=1 inner_proc=8 total_inner_samps=1000\n",
      "Started: [('EX_o2_m', 0.0, -2.4630307886795566), ('EX_nh4_m', 0.0, -0.3004289070069514)]\n"
     ]
    },
    {
     "data": {
      "application/vnd.jupyter.widget-view+json": {
       "model_id": "22fee7049f9148788f55f1d045efd121",
       "version_major": 2,
       "version_minor": 0
      },
      "text/plain": [
       "Output()"
      ]
     },
     "metadata": {},
     "output_type": "display_data"
    },
    {
     "data": {
      "text/html": [
       "<pre style=\"white-space:pre;overflow-x:auto;line-height:normal;font-family:Menlo,'DejaVu Sans Mono',consolas,'Courier New',monospace\"></pre>\n"
      ],
      "text/plain": []
     },
     "metadata": {},
     "output_type": "display_data"
    },
    {
     "data": {
      "text/html": [
       "<pre style=\"white-space:pre;overflow-x:auto;line-height:normal;font-family:Menlo,'DejaVu Sans Mono',consolas,'Courier New',monospace\">\n",
       "</pre>\n"
      ],
      "text/plain": [
       "\n"
      ]
     },
     "metadata": {},
     "output_type": "display_data"
    },
    {
     "name": "stdout",
     "output_type": "stream",
     "text": [
      "Started: [('EX_o2_m', 0.0, -2.4630307886795566), ('EX_nh4_m', 1.0, -2.395360661363543)]\n"
     ]
    },
    {
     "data": {
      "application/vnd.jupyter.widget-view+json": {
       "model_id": "c5cc8e6efd074a49a589bdece233f59e",
       "version_major": 2,
       "version_minor": 0
      },
      "text/plain": [
       "Output()"
      ]
     },
     "metadata": {},
     "output_type": "display_data"
    },
    {
     "data": {
      "text/html": [
       "<pre style=\"white-space:pre;overflow-x:auto;line-height:normal;font-family:Menlo,'DejaVu Sans Mono',consolas,'Courier New',monospace\"></pre>\n"
      ],
      "text/plain": []
     },
     "metadata": {},
     "output_type": "display_data"
    },
    {
     "data": {
      "text/html": [
       "<pre style=\"white-space:pre;overflow-x:auto;line-height:normal;font-family:Menlo,'DejaVu Sans Mono',consolas,'Courier New',monospace\">\n",
       "</pre>\n"
      ],
      "text/plain": [
       "\n"
      ]
     },
     "metadata": {},
     "output_type": "display_data"
    },
    {
     "name": "stdout",
     "output_type": "stream",
     "text": [
      "Started: [('EX_o2_m', 1.0, -25.806095721567843), ('EX_nh4_m', 0.0, -0.3004289070069514)]\n"
     ]
    },
    {
     "data": {
      "application/vnd.jupyter.widget-view+json": {
       "model_id": "32521bb0ab5f46a0a3886577b8a84edf",
       "version_major": 2,
       "version_minor": 0
      },
      "text/plain": [
       "Output()"
      ]
     },
     "metadata": {},
     "output_type": "display_data"
    },
    {
     "data": {
      "text/html": [
       "<pre style=\"white-space:pre;overflow-x:auto;line-height:normal;font-family:Menlo,'DejaVu Sans Mono',consolas,'Courier New',monospace\"></pre>\n"
      ],
      "text/plain": []
     },
     "metadata": {},
     "output_type": "display_data"
    },
    {
     "data": {
      "text/html": [
       "<pre style=\"white-space:pre;overflow-x:auto;line-height:normal;font-family:Menlo,'DejaVu Sans Mono',consolas,'Courier New',monospace\">\n",
       "</pre>\n"
      ],
      "text/plain": [
       "\n"
      ]
     },
     "metadata": {},
     "output_type": "display_data"
    },
    {
     "name": "stdout",
     "output_type": "stream",
     "text": [
      "Started: [('EX_o2_m', 1.0, -25.806095721567843), ('EX_nh4_m', 1.0, -2.395360661363543)]\n"
     ]
    },
    {
     "data": {
      "application/vnd.jupyter.widget-view+json": {
       "model_id": "772825022fe547ff9abd161a5be40ff4",
       "version_major": 2,
       "version_minor": 0
      },
      "text/plain": [
       "Output()"
      ]
     },
     "metadata": {},
     "output_type": "display_data"
    },
    {
     "data": {
      "text/html": [
       "<pre style=\"white-space:pre;overflow-x:auto;line-height:normal;font-family:Menlo,'DejaVu Sans Mono',consolas,'Courier New',monospace\"></pre>\n"
      ],
      "text/plain": []
     },
     "metadata": {},
     "output_type": "display_data"
    },
    {
     "data": {
      "text/html": [
       "<pre style=\"white-space:pre;overflow-x:auto;line-height:normal;font-family:Menlo,'DejaVu Sans Mono',consolas,'Courier New',monospace\">\n",
       "</pre>\n"
      ],
      "text/plain": [
       "\n"
      ]
     },
     "metadata": {},
     "output_type": "display_data"
    },
    {
     "name": "stdout",
     "output_type": "stream",
     "text": [
      "Try number 0 margin = 0.1\n",
      "ACONTb q8h2\n"
     ]
    },
    {
     "data": {
      "text/html": [
       "<pre style=\"white-space:pre;overflow-x:auto;line-height:normal;font-family:Menlo,'DejaVu Sans Mono',consolas,'Courier New',monospace\"><span style=\"color: #7fbfbf; text-decoration-color: #7fbfbf\">[18:22:38] </span><span style=\"color: #800000; text-decoration-color: #800000\">WARNING </span> Could not identify an external compartment by name and choosing one with   <a href=\"file:///opt/conda/envs/biotools/lib/python3.7/site-packages/cobra/medium/boundary_types.py\" target=\"_blank\"><span style=\"color: #7f7f7f; text-decoration-color: #7f7f7f\">boundary_types.py</span></a><span style=\"color: #7f7f7f; text-decoration-color: #7f7f7f\">:</span><a href=\"file:///opt/conda/envs/biotools/lib/python3.7/site-packages/cobra/medium/boundary_types.py#91\" target=\"_blank\"><span style=\"color: #7f7f7f; text-decoration-color: #7f7f7f\">91</span></a>\n",
       "<span style=\"color: #7fbfbf; text-decoration-color: #7fbfbf\">           </span>         the most boundary reactions. That might be complete nonsense or change     <span style=\"color: #7f7f7f; text-decoration-color: #7f7f7f\">                    </span>\n",
       "<span style=\"color: #7fbfbf; text-decoration-color: #7fbfbf\">           </span>         suddenly. Consider renaming your compartments using `Model.compartments`   <span style=\"color: #7f7f7f; text-decoration-color: #7f7f7f\">                    </span>\n",
       "<span style=\"color: #7fbfbf; text-decoration-color: #7fbfbf\">           </span>         to fix this.                                                               <span style=\"color: #7f7f7f; text-decoration-color: #7f7f7f\">                    </span>\n",
       "</pre>\n"
      ],
      "text/plain": [
       "\u001b[2;36m[18:22:38]\u001b[0m\u001b[2;36m \u001b[0m\u001b[31mWARNING \u001b[0m Could not identify an external compartment by name and choosing one with   \u001b]8;id=619173;file:///opt/conda/envs/biotools/lib/python3.7/site-packages/cobra/medium/boundary_types.py\u001b\\\u001b[2mboundary_types.py\u001b[0m\u001b]8;;\u001b\\\u001b[2m:\u001b[0m\u001b]8;id=940373;file:///opt/conda/envs/biotools/lib/python3.7/site-packages/cobra/medium/boundary_types.py#91\u001b\\\u001b[2m91\u001b[0m\u001b]8;;\u001b\\\n",
       "\u001b[2;36m           \u001b[0m         the most boundary reactions. That might be complete nonsense or change     \u001b[2m                    \u001b[0m\n",
       "\u001b[2;36m           \u001b[0m         suddenly. Consider renaming your compartments using `Model.compartments`   \u001b[2m                    \u001b[0m\n",
       "\u001b[2;36m           \u001b[0m         to fix this.                                                               \u001b[2m                    \u001b[0m\n"
      ]
     },
     "metadata": {},
     "output_type": "display_data"
    },
    {
     "name": "stdout",
     "output_type": "stream",
     "text": [
      "[[('SYN_D1P1P2_H(1)_M5(0)', [('H', 'ACONTb', 'q8h2', 1)])]]\n",
      "proc=1 inner_proc=8 total_inner_samps=1000\n",
      "Started: [('EX_o2_m', 0.0, -2.4630307886795566), ('EX_nh4_m', 0.0, -0.3004289070069514)]\n"
     ]
    },
    {
     "data": {
      "application/vnd.jupyter.widget-view+json": {
       "model_id": "c36037fda65b4ba6b870e8a9d81a9463",
       "version_major": 2,
       "version_minor": 0
      },
      "text/plain": [
       "Output()"
      ]
     },
     "metadata": {},
     "output_type": "display_data"
    },
    {
     "data": {
      "text/html": [
       "<pre style=\"white-space:pre;overflow-x:auto;line-height:normal;font-family:Menlo,'DejaVu Sans Mono',consolas,'Courier New',monospace\"></pre>\n"
      ],
      "text/plain": []
     },
     "metadata": {},
     "output_type": "display_data"
    },
    {
     "data": {
      "text/html": [
       "<pre style=\"white-space:pre;overflow-x:auto;line-height:normal;font-family:Menlo,'DejaVu Sans Mono',consolas,'Courier New',monospace\">\n",
       "</pre>\n"
      ],
      "text/plain": [
       "\n"
      ]
     },
     "metadata": {},
     "output_type": "display_data"
    },
    {
     "name": "stdout",
     "output_type": "stream",
     "text": [
      "Started: [('EX_o2_m', 0.0, -2.4630307886795566), ('EX_nh4_m', 1.0, -2.395360661363543)]\n"
     ]
    },
    {
     "data": {
      "application/vnd.jupyter.widget-view+json": {
       "model_id": "774d162eedb1419b9fa44f462c9ca71d",
       "version_major": 2,
       "version_minor": 0
      },
      "text/plain": [
       "Output()"
      ]
     },
     "metadata": {},
     "output_type": "display_data"
    },
    {
     "data": {
      "text/html": [
       "<pre style=\"white-space:pre;overflow-x:auto;line-height:normal;font-family:Menlo,'DejaVu Sans Mono',consolas,'Courier New',monospace\"></pre>\n"
      ],
      "text/plain": []
     },
     "metadata": {},
     "output_type": "display_data"
    },
    {
     "data": {
      "text/html": [
       "<pre style=\"white-space:pre;overflow-x:auto;line-height:normal;font-family:Menlo,'DejaVu Sans Mono',consolas,'Courier New',monospace\">\n",
       "</pre>\n"
      ],
      "text/plain": [
       "\n"
      ]
     },
     "metadata": {},
     "output_type": "display_data"
    },
    {
     "name": "stdout",
     "output_type": "stream",
     "text": [
      "Started: [('EX_o2_m', 1.0, -25.806095721567843), ('EX_nh4_m', 0.0, -0.3004289070069514)]\n"
     ]
    },
    {
     "data": {
      "application/vnd.jupyter.widget-view+json": {
       "model_id": "728f48430e2d45498766d7595f5cf05b",
       "version_major": 2,
       "version_minor": 0
      },
      "text/plain": [
       "Output()"
      ]
     },
     "metadata": {},
     "output_type": "display_data"
    },
    {
     "data": {
      "text/html": [
       "<pre style=\"white-space:pre;overflow-x:auto;line-height:normal;font-family:Menlo,'DejaVu Sans Mono',consolas,'Courier New',monospace\"></pre>\n"
      ],
      "text/plain": []
     },
     "metadata": {},
     "output_type": "display_data"
    },
    {
     "data": {
      "text/html": [
       "<pre style=\"white-space:pre;overflow-x:auto;line-height:normal;font-family:Menlo,'DejaVu Sans Mono',consolas,'Courier New',monospace\">\n",
       "</pre>\n"
      ],
      "text/plain": [
       "\n"
      ]
     },
     "metadata": {},
     "output_type": "display_data"
    },
    {
     "name": "stdout",
     "output_type": "stream",
     "text": [
      "Started: [('EX_o2_m', 1.0, -25.806095721567843), ('EX_nh4_m', 1.0, -2.395360661363543)]\n"
     ]
    },
    {
     "data": {
      "application/vnd.jupyter.widget-view+json": {
       "model_id": "9368074829634419869eb13f61860ab0",
       "version_major": 2,
       "version_minor": 0
      },
      "text/plain": [
       "Output()"
      ]
     },
     "metadata": {},
     "output_type": "display_data"
    },
    {
     "data": {
      "text/html": [
       "<pre style=\"white-space:pre;overflow-x:auto;line-height:normal;font-family:Menlo,'DejaVu Sans Mono',consolas,'Courier New',monospace\"></pre>\n"
      ],
      "text/plain": []
     },
     "metadata": {},
     "output_type": "display_data"
    },
    {
     "data": {
      "text/html": [
       "<pre style=\"white-space:pre;overflow-x:auto;line-height:normal;font-family:Menlo,'DejaVu Sans Mono',consolas,'Courier New',monospace\">\n",
       "</pre>\n"
      ],
      "text/plain": [
       "\n"
      ]
     },
     "metadata": {},
     "output_type": "display_data"
    },
    {
     "name": "stdout",
     "output_type": "stream",
     "text": [
      "Try number 0 margin = 0.25\n",
      "ACONTb q8h2\n"
     ]
    },
    {
     "data": {
      "text/html": [
       "<pre style=\"white-space:pre;overflow-x:auto;line-height:normal;font-family:Menlo,'DejaVu Sans Mono',consolas,'Courier New',monospace\"><span style=\"color: #7fbfbf; text-decoration-color: #7fbfbf\">[18:23:48] </span><span style=\"color: #800000; text-decoration-color: #800000\">WARNING </span> Could not identify an external compartment by name and choosing one with   <a href=\"file:///opt/conda/envs/biotools/lib/python3.7/site-packages/cobra/medium/boundary_types.py\" target=\"_blank\"><span style=\"color: #7f7f7f; text-decoration-color: #7f7f7f\">boundary_types.py</span></a><span style=\"color: #7f7f7f; text-decoration-color: #7f7f7f\">:</span><a href=\"file:///opt/conda/envs/biotools/lib/python3.7/site-packages/cobra/medium/boundary_types.py#91\" target=\"_blank\"><span style=\"color: #7f7f7f; text-decoration-color: #7f7f7f\">91</span></a>\n",
       "<span style=\"color: #7fbfbf; text-decoration-color: #7fbfbf\">           </span>         the most boundary reactions. That might be complete nonsense or change     <span style=\"color: #7f7f7f; text-decoration-color: #7f7f7f\">                    </span>\n",
       "<span style=\"color: #7fbfbf; text-decoration-color: #7fbfbf\">           </span>         suddenly. Consider renaming your compartments using `Model.compartments`   <span style=\"color: #7f7f7f; text-decoration-color: #7f7f7f\">                    </span>\n",
       "<span style=\"color: #7fbfbf; text-decoration-color: #7fbfbf\">           </span>         to fix this.                                                               <span style=\"color: #7f7f7f; text-decoration-color: #7f7f7f\">                    </span>\n",
       "</pre>\n"
      ],
      "text/plain": [
       "\u001b[2;36m[18:23:48]\u001b[0m\u001b[2;36m \u001b[0m\u001b[31mWARNING \u001b[0m Could not identify an external compartment by name and choosing one with   \u001b]8;id=593878;file:///opt/conda/envs/biotools/lib/python3.7/site-packages/cobra/medium/boundary_types.py\u001b\\\u001b[2mboundary_types.py\u001b[0m\u001b]8;;\u001b\\\u001b[2m:\u001b[0m\u001b]8;id=715263;file:///opt/conda/envs/biotools/lib/python3.7/site-packages/cobra/medium/boundary_types.py#91\u001b\\\u001b[2m91\u001b[0m\u001b]8;;\u001b\\\n",
       "\u001b[2;36m           \u001b[0m         the most boundary reactions. That might be complete nonsense or change     \u001b[2m                    \u001b[0m\n",
       "\u001b[2;36m           \u001b[0m         suddenly. Consider renaming your compartments using `Model.compartments`   \u001b[2m                    \u001b[0m\n",
       "\u001b[2;36m           \u001b[0m         to fix this.                                                               \u001b[2m                    \u001b[0m\n"
      ]
     },
     "metadata": {},
     "output_type": "display_data"
    },
    {
     "name": "stdout",
     "output_type": "stream",
     "text": [
      "[[('SYN_D1P1P2_H(1)_M5(0)', [('H', 'ACONTb', 'q8h2', 1)])]]\n",
      "proc=1 inner_proc=8 total_inner_samps=1000\n",
      "Started: [('EX_o2_m', 0.0, -2.4630307886795566), ('EX_nh4_m', 0.0, -0.3004289070069514)]\n"
     ]
    },
    {
     "data": {
      "application/vnd.jupyter.widget-view+json": {
       "model_id": "4f040173e6814d138a619d4516c17dc5",
       "version_major": 2,
       "version_minor": 0
      },
      "text/plain": [
       "Output()"
      ]
     },
     "metadata": {},
     "output_type": "display_data"
    },
    {
     "data": {
      "text/html": [
       "<pre style=\"white-space:pre;overflow-x:auto;line-height:normal;font-family:Menlo,'DejaVu Sans Mono',consolas,'Courier New',monospace\"></pre>\n"
      ],
      "text/plain": []
     },
     "metadata": {},
     "output_type": "display_data"
    },
    {
     "data": {
      "text/html": [
       "<pre style=\"white-space:pre;overflow-x:auto;line-height:normal;font-family:Menlo,'DejaVu Sans Mono',consolas,'Courier New',monospace\">\n",
       "</pre>\n"
      ],
      "text/plain": [
       "\n"
      ]
     },
     "metadata": {},
     "output_type": "display_data"
    },
    {
     "name": "stdout",
     "output_type": "stream",
     "text": [
      "Started: [('EX_o2_m', 0.0, -2.4630307886795566), ('EX_nh4_m', 1.0, -2.395360661363543)]\n"
     ]
    },
    {
     "data": {
      "application/vnd.jupyter.widget-view+json": {
       "model_id": "494f12459be448ab879bdc6839c3e7ad",
       "version_major": 2,
       "version_minor": 0
      },
      "text/plain": [
       "Output()"
      ]
     },
     "metadata": {},
     "output_type": "display_data"
    },
    {
     "data": {
      "text/html": [
       "<pre style=\"white-space:pre;overflow-x:auto;line-height:normal;font-family:Menlo,'DejaVu Sans Mono',consolas,'Courier New',monospace\"></pre>\n"
      ],
      "text/plain": []
     },
     "metadata": {},
     "output_type": "display_data"
    },
    {
     "data": {
      "text/html": [
       "<pre style=\"white-space:pre;overflow-x:auto;line-height:normal;font-family:Menlo,'DejaVu Sans Mono',consolas,'Courier New',monospace\">\n",
       "</pre>\n"
      ],
      "text/plain": [
       "\n"
      ]
     },
     "metadata": {},
     "output_type": "display_data"
    },
    {
     "name": "stdout",
     "output_type": "stream",
     "text": [
      "Started: [('EX_o2_m', 1.0, -25.806095721567843), ('EX_nh4_m', 0.0, -0.3004289070069514)]\n"
     ]
    },
    {
     "data": {
      "application/vnd.jupyter.widget-view+json": {
       "model_id": "cbaa9d8ca8f04c81ae45fb3bb437559b",
       "version_major": 2,
       "version_minor": 0
      },
      "text/plain": [
       "Output()"
      ]
     },
     "metadata": {},
     "output_type": "display_data"
    },
    {
     "data": {
      "text/html": [
       "<pre style=\"white-space:pre;overflow-x:auto;line-height:normal;font-family:Menlo,'DejaVu Sans Mono',consolas,'Courier New',monospace\"></pre>\n"
      ],
      "text/plain": []
     },
     "metadata": {},
     "output_type": "display_data"
    },
    {
     "data": {
      "text/html": [
       "<pre style=\"white-space:pre;overflow-x:auto;line-height:normal;font-family:Menlo,'DejaVu Sans Mono',consolas,'Courier New',monospace\">\n",
       "</pre>\n"
      ],
      "text/plain": [
       "\n"
      ]
     },
     "metadata": {},
     "output_type": "display_data"
    },
    {
     "name": "stdout",
     "output_type": "stream",
     "text": [
      "Started: [('EX_o2_m', 1.0, -25.806095721567843), ('EX_nh4_m', 1.0, -2.395360661363543)]\n"
     ]
    },
    {
     "data": {
      "application/vnd.jupyter.widget-view+json": {
       "model_id": "f691f704ca4f4ca2aab833d1125032bd",
       "version_major": 2,
       "version_minor": 0
      },
      "text/plain": [
       "Output()"
      ]
     },
     "metadata": {},
     "output_type": "display_data"
    },
    {
     "data": {
      "text/html": [
       "<pre style=\"white-space:pre;overflow-x:auto;line-height:normal;font-family:Menlo,'DejaVu Sans Mono',consolas,'Courier New',monospace\"></pre>\n"
      ],
      "text/plain": []
     },
     "metadata": {},
     "output_type": "display_data"
    },
    {
     "data": {
      "text/html": [
       "<pre style=\"white-space:pre;overflow-x:auto;line-height:normal;font-family:Menlo,'DejaVu Sans Mono',consolas,'Courier New',monospace\">\n",
       "</pre>\n"
      ],
      "text/plain": [
       "\n"
      ]
     },
     "metadata": {},
     "output_type": "display_data"
    },
    {
     "name": "stdout",
     "output_type": "stream",
     "text": [
      "Try number 0 margin = 0.5\n",
      "ACONTb q8h2\n"
     ]
    },
    {
     "data": {
      "text/html": [
       "<pre style=\"white-space:pre;overflow-x:auto;line-height:normal;font-family:Menlo,'DejaVu Sans Mono',consolas,'Courier New',monospace\"><span style=\"color: #7fbfbf; text-decoration-color: #7fbfbf\">[18:24:58] </span><span style=\"color: #800000; text-decoration-color: #800000\">WARNING </span> Could not identify an external compartment by name and choosing one with   <a href=\"file:///opt/conda/envs/biotools/lib/python3.7/site-packages/cobra/medium/boundary_types.py\" target=\"_blank\"><span style=\"color: #7f7f7f; text-decoration-color: #7f7f7f\">boundary_types.py</span></a><span style=\"color: #7f7f7f; text-decoration-color: #7f7f7f\">:</span><a href=\"file:///opt/conda/envs/biotools/lib/python3.7/site-packages/cobra/medium/boundary_types.py#91\" target=\"_blank\"><span style=\"color: #7f7f7f; text-decoration-color: #7f7f7f\">91</span></a>\n",
       "<span style=\"color: #7fbfbf; text-decoration-color: #7fbfbf\">           </span>         the most boundary reactions. That might be complete nonsense or change     <span style=\"color: #7f7f7f; text-decoration-color: #7f7f7f\">                    </span>\n",
       "<span style=\"color: #7fbfbf; text-decoration-color: #7fbfbf\">           </span>         suddenly. Consider renaming your compartments using `Model.compartments`   <span style=\"color: #7f7f7f; text-decoration-color: #7f7f7f\">                    </span>\n",
       "<span style=\"color: #7fbfbf; text-decoration-color: #7fbfbf\">           </span>         to fix this.                                                               <span style=\"color: #7f7f7f; text-decoration-color: #7f7f7f\">                    </span>\n",
       "</pre>\n"
      ],
      "text/plain": [
       "\u001b[2;36m[18:24:58]\u001b[0m\u001b[2;36m \u001b[0m\u001b[31mWARNING \u001b[0m Could not identify an external compartment by name and choosing one with   \u001b]8;id=624659;file:///opt/conda/envs/biotools/lib/python3.7/site-packages/cobra/medium/boundary_types.py\u001b\\\u001b[2mboundary_types.py\u001b[0m\u001b]8;;\u001b\\\u001b[2m:\u001b[0m\u001b]8;id=228760;file:///opt/conda/envs/biotools/lib/python3.7/site-packages/cobra/medium/boundary_types.py#91\u001b\\\u001b[2m91\u001b[0m\u001b]8;;\u001b\\\n",
       "\u001b[2;36m           \u001b[0m         the most boundary reactions. That might be complete nonsense or change     \u001b[2m                    \u001b[0m\n",
       "\u001b[2;36m           \u001b[0m         suddenly. Consider renaming your compartments using `Model.compartments`   \u001b[2m                    \u001b[0m\n",
       "\u001b[2;36m           \u001b[0m         to fix this.                                                               \u001b[2m                    \u001b[0m\n"
      ]
     },
     "metadata": {},
     "output_type": "display_data"
    },
    {
     "name": "stdout",
     "output_type": "stream",
     "text": [
      "[[('SYN_D1P1P2_H(1)_M5(0)', [('H', 'ACONTb', 'q8h2', 1)])]]\n",
      "proc=1 inner_proc=8 total_inner_samps=1000\n",
      "Started: [('EX_o2_m', 0.0, -2.4630307886795566), ('EX_nh4_m', 0.0, -0.3004289070069514)]\n"
     ]
    },
    {
     "data": {
      "application/vnd.jupyter.widget-view+json": {
       "model_id": "1cbc31dbf1fc4338a3ded398ceb1a6c0",
       "version_major": 2,
       "version_minor": 0
      },
      "text/plain": [
       "Output()"
      ]
     },
     "metadata": {},
     "output_type": "display_data"
    },
    {
     "data": {
      "text/html": [
       "<pre style=\"white-space:pre;overflow-x:auto;line-height:normal;font-family:Menlo,'DejaVu Sans Mono',consolas,'Courier New',monospace\"></pre>\n"
      ],
      "text/plain": []
     },
     "metadata": {},
     "output_type": "display_data"
    },
    {
     "data": {
      "text/html": [
       "<pre style=\"white-space:pre;overflow-x:auto;line-height:normal;font-family:Menlo,'DejaVu Sans Mono',consolas,'Courier New',monospace\">\n",
       "</pre>\n"
      ],
      "text/plain": [
       "\n"
      ]
     },
     "metadata": {},
     "output_type": "display_data"
    },
    {
     "name": "stdout",
     "output_type": "stream",
     "text": [
      "Started: [('EX_o2_m', 0.0, -2.4630307886795566), ('EX_nh4_m', 1.0, -2.395360661363543)]\n"
     ]
    },
    {
     "data": {
      "application/vnd.jupyter.widget-view+json": {
       "model_id": "9510ad5baba54a54b881d64c895bc263",
       "version_major": 2,
       "version_minor": 0
      },
      "text/plain": [
       "Output()"
      ]
     },
     "metadata": {},
     "output_type": "display_data"
    },
    {
     "data": {
      "text/html": [
       "<pre style=\"white-space:pre;overflow-x:auto;line-height:normal;font-family:Menlo,'DejaVu Sans Mono',consolas,'Courier New',monospace\"></pre>\n"
      ],
      "text/plain": []
     },
     "metadata": {},
     "output_type": "display_data"
    },
    {
     "data": {
      "text/html": [
       "<pre style=\"white-space:pre;overflow-x:auto;line-height:normal;font-family:Menlo,'DejaVu Sans Mono',consolas,'Courier New',monospace\">\n",
       "</pre>\n"
      ],
      "text/plain": [
       "\n"
      ]
     },
     "metadata": {},
     "output_type": "display_data"
    },
    {
     "name": "stdout",
     "output_type": "stream",
     "text": [
      "Started: [('EX_o2_m', 1.0, -25.806095721567843), ('EX_nh4_m', 0.0, -0.3004289070069514)]\n"
     ]
    },
    {
     "data": {
      "application/vnd.jupyter.widget-view+json": {
       "model_id": "7137b01ee5c64759b9f9cc550daa1074",
       "version_major": 2,
       "version_minor": 0
      },
      "text/plain": [
       "Output()"
      ]
     },
     "metadata": {},
     "output_type": "display_data"
    },
    {
     "data": {
      "text/html": [
       "<pre style=\"white-space:pre;overflow-x:auto;line-height:normal;font-family:Menlo,'DejaVu Sans Mono',consolas,'Courier New',monospace\"></pre>\n"
      ],
      "text/plain": []
     },
     "metadata": {},
     "output_type": "display_data"
    },
    {
     "data": {
      "text/html": [
       "<pre style=\"white-space:pre;overflow-x:auto;line-height:normal;font-family:Menlo,'DejaVu Sans Mono',consolas,'Courier New',monospace\">\n",
       "</pre>\n"
      ],
      "text/plain": [
       "\n"
      ]
     },
     "metadata": {},
     "output_type": "display_data"
    },
    {
     "name": "stdout",
     "output_type": "stream",
     "text": [
      "Started: [('EX_o2_m', 1.0, -25.806095721567843), ('EX_nh4_m', 1.0, -2.395360661363543)]\n"
     ]
    },
    {
     "data": {
      "application/vnd.jupyter.widget-view+json": {
       "model_id": "093ce098f11048af91e4328a9cbda4cb",
       "version_major": 2,
       "version_minor": 0
      },
      "text/plain": [
       "Output()"
      ]
     },
     "metadata": {},
     "output_type": "display_data"
    },
    {
     "data": {
      "text/html": [
       "<pre style=\"white-space:pre;overflow-x:auto;line-height:normal;font-family:Menlo,'DejaVu Sans Mono',consolas,'Courier New',monospace\"></pre>\n"
      ],
      "text/plain": []
     },
     "metadata": {},
     "output_type": "display_data"
    },
    {
     "data": {
      "text/html": [
       "<pre style=\"white-space:pre;overflow-x:auto;line-height:normal;font-family:Menlo,'DejaVu Sans Mono',consolas,'Courier New',monospace\">\n",
       "</pre>\n"
      ],
      "text/plain": [
       "\n"
      ]
     },
     "metadata": {},
     "output_type": "display_data"
    },
    {
     "name": "stdout",
     "output_type": "stream",
     "text": [
      "======================================== GENERATING FOR: 102 -- [[('SYN_D1P1P2_H(1)_M4(1)', [('H', 'CS', 'q8', 1e-07), ('M4', 'Biomass_Ecoli_core', 'fum', 1)])]] -- ../../data/benchmark_data/SET102_L2_M10_T10 ======================================== \n",
      "\n",
      "\n",
      "\n",
      "\n",
      "Try number 0 margin = 0.01\n",
      "CS q8\n"
     ]
    },
    {
     "data": {
      "text/html": [
       "<pre style=\"white-space:pre;overflow-x:auto;line-height:normal;font-family:Menlo,'DejaVu Sans Mono',consolas,'Courier New',monospace\"><span style=\"color: #7fbfbf; text-decoration-color: #7fbfbf\">[18:26:09] </span><span style=\"color: #800000; text-decoration-color: #800000\">WARNING </span> Could not identify an external compartment by name and choosing one with   <a href=\"file:///opt/conda/envs/biotools/lib/python3.7/site-packages/cobra/medium/boundary_types.py\" target=\"_blank\"><span style=\"color: #7f7f7f; text-decoration-color: #7f7f7f\">boundary_types.py</span></a><span style=\"color: #7f7f7f; text-decoration-color: #7f7f7f\">:</span><a href=\"file:///opt/conda/envs/biotools/lib/python3.7/site-packages/cobra/medium/boundary_types.py#91\" target=\"_blank\"><span style=\"color: #7f7f7f; text-decoration-color: #7f7f7f\">91</span></a>\n",
       "<span style=\"color: #7fbfbf; text-decoration-color: #7fbfbf\">           </span>         the most boundary reactions. That might be complete nonsense or change     <span style=\"color: #7f7f7f; text-decoration-color: #7f7f7f\">                    </span>\n",
       "<span style=\"color: #7fbfbf; text-decoration-color: #7fbfbf\">           </span>         suddenly. Consider renaming your compartments using `Model.compartments`   <span style=\"color: #7f7f7f; text-decoration-color: #7f7f7f\">                    </span>\n",
       "<span style=\"color: #7fbfbf; text-decoration-color: #7fbfbf\">           </span>         to fix this.                                                               <span style=\"color: #7f7f7f; text-decoration-color: #7f7f7f\">                    </span>\n",
       "</pre>\n"
      ],
      "text/plain": [
       "\u001b[2;36m[18:26:09]\u001b[0m\u001b[2;36m \u001b[0m\u001b[31mWARNING \u001b[0m Could not identify an external compartment by name and choosing one with   \u001b]8;id=335673;file:///opt/conda/envs/biotools/lib/python3.7/site-packages/cobra/medium/boundary_types.py\u001b\\\u001b[2mboundary_types.py\u001b[0m\u001b]8;;\u001b\\\u001b[2m:\u001b[0m\u001b]8;id=223400;file:///opt/conda/envs/biotools/lib/python3.7/site-packages/cobra/medium/boundary_types.py#91\u001b\\\u001b[2m91\u001b[0m\u001b]8;;\u001b\\\n",
       "\u001b[2;36m           \u001b[0m         the most boundary reactions. That might be complete nonsense or change     \u001b[2m                    \u001b[0m\n",
       "\u001b[2;36m           \u001b[0m         suddenly. Consider renaming your compartments using `Model.compartments`   \u001b[2m                    \u001b[0m\n",
       "\u001b[2;36m           \u001b[0m         to fix this.                                                               \u001b[2m                    \u001b[0m\n"
      ]
     },
     "metadata": {},
     "output_type": "display_data"
    },
    {
     "name": "stdout",
     "output_type": "stream",
     "text": [
      "Biomass_Ecoli_core fum\n"
     ]
    },
    {
     "data": {
      "text/html": [
       "<pre style=\"white-space:pre;overflow-x:auto;line-height:normal;font-family:Menlo,'DejaVu Sans Mono',consolas,'Courier New',monospace\"><span style=\"color: #7fbfbf; text-decoration-color: #7fbfbf\">           </span><span style=\"color: #800000; text-decoration-color: #800000\">WARNING </span> Could not identify an external compartment by name and choosing one with   <a href=\"file:///opt/conda/envs/biotools/lib/python3.7/site-packages/cobra/medium/boundary_types.py\" target=\"_blank\"><span style=\"color: #7f7f7f; text-decoration-color: #7f7f7f\">boundary_types.py</span></a><span style=\"color: #7f7f7f; text-decoration-color: #7f7f7f\">:</span><a href=\"file:///opt/conda/envs/biotools/lib/python3.7/site-packages/cobra/medium/boundary_types.py#91\" target=\"_blank\"><span style=\"color: #7f7f7f; text-decoration-color: #7f7f7f\">91</span></a>\n",
       "<span style=\"color: #7fbfbf; text-decoration-color: #7fbfbf\">           </span>         the most boundary reactions. That might be complete nonsense or change     <span style=\"color: #7f7f7f; text-decoration-color: #7f7f7f\">                    </span>\n",
       "<span style=\"color: #7fbfbf; text-decoration-color: #7fbfbf\">           </span>         suddenly. Consider renaming your compartments using `Model.compartments`   <span style=\"color: #7f7f7f; text-decoration-color: #7f7f7f\">                    </span>\n",
       "<span style=\"color: #7fbfbf; text-decoration-color: #7fbfbf\">           </span>         to fix this.                                                               <span style=\"color: #7f7f7f; text-decoration-color: #7f7f7f\">                    </span>\n",
       "</pre>\n"
      ],
      "text/plain": [
       "\u001b[2;36m          \u001b[0m\u001b[2;36m \u001b[0m\u001b[31mWARNING \u001b[0m Could not identify an external compartment by name and choosing one with   \u001b]8;id=901281;file:///opt/conda/envs/biotools/lib/python3.7/site-packages/cobra/medium/boundary_types.py\u001b\\\u001b[2mboundary_types.py\u001b[0m\u001b]8;;\u001b\\\u001b[2m:\u001b[0m\u001b]8;id=576995;file:///opt/conda/envs/biotools/lib/python3.7/site-packages/cobra/medium/boundary_types.py#91\u001b\\\u001b[2m91\u001b[0m\u001b]8;;\u001b\\\n",
       "\u001b[2;36m           \u001b[0m         the most boundary reactions. That might be complete nonsense or change     \u001b[2m                    \u001b[0m\n",
       "\u001b[2;36m           \u001b[0m         suddenly. Consider renaming your compartments using `Model.compartments`   \u001b[2m                    \u001b[0m\n",
       "\u001b[2;36m           \u001b[0m         to fix this.                                                               \u001b[2m                    \u001b[0m\n"
      ]
     },
     "metadata": {},
     "output_type": "display_data"
    },
    {
     "data": {
      "text/html": [
       "<pre style=\"white-space:pre;overflow-x:auto;line-height:normal;font-family:Menlo,'DejaVu Sans Mono',consolas,'Courier New',monospace\"><span style=\"color: #7fbfbf; text-decoration-color: #7fbfbf\">           </span><span style=\"color: #800000; text-decoration-color: #800000\">WARNING </span> Could not identify an external compartment by name and choosing one with   <a href=\"file:///opt/conda/envs/biotools/lib/python3.7/site-packages/cobra/medium/boundary_types.py\" target=\"_blank\"><span style=\"color: #7f7f7f; text-decoration-color: #7f7f7f\">boundary_types.py</span></a><span style=\"color: #7f7f7f; text-decoration-color: #7f7f7f\">:</span><a href=\"file:///opt/conda/envs/biotools/lib/python3.7/site-packages/cobra/medium/boundary_types.py#91\" target=\"_blank\"><span style=\"color: #7f7f7f; text-decoration-color: #7f7f7f\">91</span></a>\n",
       "<span style=\"color: #7fbfbf; text-decoration-color: #7fbfbf\">           </span>         the most boundary reactions. That might be complete nonsense or change     <span style=\"color: #7f7f7f; text-decoration-color: #7f7f7f\">                    </span>\n",
       "<span style=\"color: #7fbfbf; text-decoration-color: #7fbfbf\">           </span>         suddenly. Consider renaming your compartments using `Model.compartments`   <span style=\"color: #7f7f7f; text-decoration-color: #7f7f7f\">                    </span>\n",
       "<span style=\"color: #7fbfbf; text-decoration-color: #7fbfbf\">           </span>         to fix this.                                                               <span style=\"color: #7f7f7f; text-decoration-color: #7f7f7f\">                    </span>\n",
       "</pre>\n"
      ],
      "text/plain": [
       "\u001b[2;36m          \u001b[0m\u001b[2;36m \u001b[0m\u001b[31mWARNING \u001b[0m Could not identify an external compartment by name and choosing one with   \u001b]8;id=720923;file:///opt/conda/envs/biotools/lib/python3.7/site-packages/cobra/medium/boundary_types.py\u001b\\\u001b[2mboundary_types.py\u001b[0m\u001b]8;;\u001b\\\u001b[2m:\u001b[0m\u001b]8;id=871885;file:///opt/conda/envs/biotools/lib/python3.7/site-packages/cobra/medium/boundary_types.py#91\u001b\\\u001b[2m91\u001b[0m\u001b]8;;\u001b\\\n",
       "\u001b[2;36m           \u001b[0m         the most boundary reactions. That might be complete nonsense or change     \u001b[2m                    \u001b[0m\n",
       "\u001b[2;36m           \u001b[0m         suddenly. Consider renaming your compartments using `Model.compartments`   \u001b[2m                    \u001b[0m\n",
       "\u001b[2;36m           \u001b[0m         to fix this.                                                               \u001b[2m                    \u001b[0m\n"
      ]
     },
     "metadata": {},
     "output_type": "display_data"
    },
    {
     "name": "stdout",
     "output_type": "stream",
     "text": [
      "[[('SYN_D1P1P2_H(1)_M4(1)', [('H', 'CS', 'q8', 1e-07), ('M4', 'Biomass_Ecoli_core', 'fum', 1)])]]\n",
      "proc=1 inner_proc=8 total_inner_samps=1000\n",
      "Started: [('EX_o2_m', 0.0, -2.4630307886795566), ('EX_nh4_m', 0.0, -0.3004289070069514)]\n"
     ]
    },
    {
     "data": {
      "application/vnd.jupyter.widget-view+json": {
       "model_id": "61e0650e6995466aa9c6cc35d375aefe",
       "version_major": 2,
       "version_minor": 0
      },
      "text/plain": [
       "Output()"
      ]
     },
     "metadata": {},
     "output_type": "display_data"
    },
    {
     "data": {
      "text/html": [
       "<pre style=\"white-space:pre;overflow-x:auto;line-height:normal;font-family:Menlo,'DejaVu Sans Mono',consolas,'Courier New',monospace\"></pre>\n"
      ],
      "text/plain": []
     },
     "metadata": {},
     "output_type": "display_data"
    },
    {
     "data": {
      "text/html": [
       "<pre style=\"white-space:pre;overflow-x:auto;line-height:normal;font-family:Menlo,'DejaVu Sans Mono',consolas,'Courier New',monospace\">\n",
       "</pre>\n"
      ],
      "text/plain": [
       "\n"
      ]
     },
     "metadata": {},
     "output_type": "display_data"
    },
    {
     "name": "stdout",
     "output_type": "stream",
     "text": [
      "Started: [('EX_o2_m', 0.0, -2.4630307886795566), ('EX_nh4_m', 1.0, -2.395360661363543)]\n"
     ]
    },
    {
     "data": {
      "application/vnd.jupyter.widget-view+json": {
       "model_id": "ea615aeff1654c3783cb4a82961a1f6d",
       "version_major": 2,
       "version_minor": 0
      },
      "text/plain": [
       "Output()"
      ]
     },
     "metadata": {},
     "output_type": "display_data"
    },
    {
     "data": {
      "text/html": [
       "<pre style=\"white-space:pre;overflow-x:auto;line-height:normal;font-family:Menlo,'DejaVu Sans Mono',consolas,'Courier New',monospace\"></pre>\n"
      ],
      "text/plain": []
     },
     "metadata": {},
     "output_type": "display_data"
    },
    {
     "data": {
      "text/html": [
       "<pre style=\"white-space:pre;overflow-x:auto;line-height:normal;font-family:Menlo,'DejaVu Sans Mono',consolas,'Courier New',monospace\">\n",
       "</pre>\n"
      ],
      "text/plain": [
       "\n"
      ]
     },
     "metadata": {},
     "output_type": "display_data"
    },
    {
     "name": "stdout",
     "output_type": "stream",
     "text": [
      "Started: [('EX_o2_m', 1.0, -25.806095721567843), ('EX_nh4_m', 0.0, -0.3004289070069514)]\n"
     ]
    },
    {
     "data": {
      "application/vnd.jupyter.widget-view+json": {
       "model_id": "9ba3cbcf89494e1ebc5ddbac774a2e5b",
       "version_major": 2,
       "version_minor": 0
      },
      "text/plain": [
       "Output()"
      ]
     },
     "metadata": {},
     "output_type": "display_data"
    },
    {
     "data": {
      "text/html": [
       "<pre style=\"white-space:pre;overflow-x:auto;line-height:normal;font-family:Menlo,'DejaVu Sans Mono',consolas,'Courier New',monospace\"></pre>\n"
      ],
      "text/plain": []
     },
     "metadata": {},
     "output_type": "display_data"
    },
    {
     "data": {
      "text/html": [
       "<pre style=\"white-space:pre;overflow-x:auto;line-height:normal;font-family:Menlo,'DejaVu Sans Mono',consolas,'Courier New',monospace\">\n",
       "</pre>\n"
      ],
      "text/plain": [
       "\n"
      ]
     },
     "metadata": {},
     "output_type": "display_data"
    },
    {
     "name": "stdout",
     "output_type": "stream",
     "text": [
      "Started: [('EX_o2_m', 1.0, -25.806095721567843), ('EX_nh4_m', 1.0, -2.395360661363543)]\n"
     ]
    },
    {
     "data": {
      "application/vnd.jupyter.widget-view+json": {
       "model_id": "12cc17035ab5415098cdd7f54bad67b4",
       "version_major": 2,
       "version_minor": 0
      },
      "text/plain": [
       "Output()"
      ]
     },
     "metadata": {},
     "output_type": "display_data"
    },
    {
     "data": {
      "text/html": [
       "<pre style=\"white-space:pre;overflow-x:auto;line-height:normal;font-family:Menlo,'DejaVu Sans Mono',consolas,'Courier New',monospace\"></pre>\n"
      ],
      "text/plain": []
     },
     "metadata": {},
     "output_type": "display_data"
    },
    {
     "data": {
      "text/html": [
       "<pre style=\"white-space:pre;overflow-x:auto;line-height:normal;font-family:Menlo,'DejaVu Sans Mono',consolas,'Courier New',monospace\">\n",
       "</pre>\n"
      ],
      "text/plain": [
       "\n"
      ]
     },
     "metadata": {},
     "output_type": "display_data"
    },
    {
     "name": "stdout",
     "output_type": "stream",
     "text": [
      "Try number 0 margin = 0.1\n",
      "CS q8\n"
     ]
    },
    {
     "data": {
      "text/html": [
       "<pre style=\"white-space:pre;overflow-x:auto;line-height:normal;font-family:Menlo,'DejaVu Sans Mono',consolas,'Courier New',monospace\"><span style=\"color: #7fbfbf; text-decoration-color: #7fbfbf\">[18:27:20] </span><span style=\"color: #800000; text-decoration-color: #800000\">WARNING </span> Could not identify an external compartment by name and choosing one with   <a href=\"file:///opt/conda/envs/biotools/lib/python3.7/site-packages/cobra/medium/boundary_types.py\" target=\"_blank\"><span style=\"color: #7f7f7f; text-decoration-color: #7f7f7f\">boundary_types.py</span></a><span style=\"color: #7f7f7f; text-decoration-color: #7f7f7f\">:</span><a href=\"file:///opt/conda/envs/biotools/lib/python3.7/site-packages/cobra/medium/boundary_types.py#91\" target=\"_blank\"><span style=\"color: #7f7f7f; text-decoration-color: #7f7f7f\">91</span></a>\n",
       "<span style=\"color: #7fbfbf; text-decoration-color: #7fbfbf\">           </span>         the most boundary reactions. That might be complete nonsense or change     <span style=\"color: #7f7f7f; text-decoration-color: #7f7f7f\">                    </span>\n",
       "<span style=\"color: #7fbfbf; text-decoration-color: #7fbfbf\">           </span>         suddenly. Consider renaming your compartments using `Model.compartments`   <span style=\"color: #7f7f7f; text-decoration-color: #7f7f7f\">                    </span>\n",
       "<span style=\"color: #7fbfbf; text-decoration-color: #7fbfbf\">           </span>         to fix this.                                                               <span style=\"color: #7f7f7f; text-decoration-color: #7f7f7f\">                    </span>\n",
       "</pre>\n"
      ],
      "text/plain": [
       "\u001b[2;36m[18:27:20]\u001b[0m\u001b[2;36m \u001b[0m\u001b[31mWARNING \u001b[0m Could not identify an external compartment by name and choosing one with   \u001b]8;id=561344;file:///opt/conda/envs/biotools/lib/python3.7/site-packages/cobra/medium/boundary_types.py\u001b\\\u001b[2mboundary_types.py\u001b[0m\u001b]8;;\u001b\\\u001b[2m:\u001b[0m\u001b]8;id=516825;file:///opt/conda/envs/biotools/lib/python3.7/site-packages/cobra/medium/boundary_types.py#91\u001b\\\u001b[2m91\u001b[0m\u001b]8;;\u001b\\\n",
       "\u001b[2;36m           \u001b[0m         the most boundary reactions. That might be complete nonsense or change     \u001b[2m                    \u001b[0m\n",
       "\u001b[2;36m           \u001b[0m         suddenly. Consider renaming your compartments using `Model.compartments`   \u001b[2m                    \u001b[0m\n",
       "\u001b[2;36m           \u001b[0m         to fix this.                                                               \u001b[2m                    \u001b[0m\n"
      ]
     },
     "metadata": {},
     "output_type": "display_data"
    },
    {
     "name": "stdout",
     "output_type": "stream",
     "text": [
      "Biomass_Ecoli_core fum\n"
     ]
    },
    {
     "data": {
      "text/html": [
       "<pre style=\"white-space:pre;overflow-x:auto;line-height:normal;font-family:Menlo,'DejaVu Sans Mono',consolas,'Courier New',monospace\"><span style=\"color: #7fbfbf; text-decoration-color: #7fbfbf\">           </span><span style=\"color: #800000; text-decoration-color: #800000\">WARNING </span> Could not identify an external compartment by name and choosing one with   <a href=\"file:///opt/conda/envs/biotools/lib/python3.7/site-packages/cobra/medium/boundary_types.py\" target=\"_blank\"><span style=\"color: #7f7f7f; text-decoration-color: #7f7f7f\">boundary_types.py</span></a><span style=\"color: #7f7f7f; text-decoration-color: #7f7f7f\">:</span><a href=\"file:///opt/conda/envs/biotools/lib/python3.7/site-packages/cobra/medium/boundary_types.py#91\" target=\"_blank\"><span style=\"color: #7f7f7f; text-decoration-color: #7f7f7f\">91</span></a>\n",
       "<span style=\"color: #7fbfbf; text-decoration-color: #7fbfbf\">           </span>         the most boundary reactions. That might be complete nonsense or change     <span style=\"color: #7f7f7f; text-decoration-color: #7f7f7f\">                    </span>\n",
       "<span style=\"color: #7fbfbf; text-decoration-color: #7fbfbf\">           </span>         suddenly. Consider renaming your compartments using `Model.compartments`   <span style=\"color: #7f7f7f; text-decoration-color: #7f7f7f\">                    </span>\n",
       "<span style=\"color: #7fbfbf; text-decoration-color: #7fbfbf\">           </span>         to fix this.                                                               <span style=\"color: #7f7f7f; text-decoration-color: #7f7f7f\">                    </span>\n",
       "</pre>\n"
      ],
      "text/plain": [
       "\u001b[2;36m          \u001b[0m\u001b[2;36m \u001b[0m\u001b[31mWARNING \u001b[0m Could not identify an external compartment by name and choosing one with   \u001b]8;id=683615;file:///opt/conda/envs/biotools/lib/python3.7/site-packages/cobra/medium/boundary_types.py\u001b\\\u001b[2mboundary_types.py\u001b[0m\u001b]8;;\u001b\\\u001b[2m:\u001b[0m\u001b]8;id=875649;file:///opt/conda/envs/biotools/lib/python3.7/site-packages/cobra/medium/boundary_types.py#91\u001b\\\u001b[2m91\u001b[0m\u001b]8;;\u001b\\\n",
       "\u001b[2;36m           \u001b[0m         the most boundary reactions. That might be complete nonsense or change     \u001b[2m                    \u001b[0m\n",
       "\u001b[2;36m           \u001b[0m         suddenly. Consider renaming your compartments using `Model.compartments`   \u001b[2m                    \u001b[0m\n",
       "\u001b[2;36m           \u001b[0m         to fix this.                                                               \u001b[2m                    \u001b[0m\n"
      ]
     },
     "metadata": {},
     "output_type": "display_data"
    },
    {
     "data": {
      "text/html": [
       "<pre style=\"white-space:pre;overflow-x:auto;line-height:normal;font-family:Menlo,'DejaVu Sans Mono',consolas,'Courier New',monospace\"><span style=\"color: #7fbfbf; text-decoration-color: #7fbfbf\">           </span><span style=\"color: #800000; text-decoration-color: #800000\">WARNING </span> Could not identify an external compartment by name and choosing one with   <a href=\"file:///opt/conda/envs/biotools/lib/python3.7/site-packages/cobra/medium/boundary_types.py\" target=\"_blank\"><span style=\"color: #7f7f7f; text-decoration-color: #7f7f7f\">boundary_types.py</span></a><span style=\"color: #7f7f7f; text-decoration-color: #7f7f7f\">:</span><a href=\"file:///opt/conda/envs/biotools/lib/python3.7/site-packages/cobra/medium/boundary_types.py#91\" target=\"_blank\"><span style=\"color: #7f7f7f; text-decoration-color: #7f7f7f\">91</span></a>\n",
       "<span style=\"color: #7fbfbf; text-decoration-color: #7fbfbf\">           </span>         the most boundary reactions. That might be complete nonsense or change     <span style=\"color: #7f7f7f; text-decoration-color: #7f7f7f\">                    </span>\n",
       "<span style=\"color: #7fbfbf; text-decoration-color: #7fbfbf\">           </span>         suddenly. Consider renaming your compartments using `Model.compartments`   <span style=\"color: #7f7f7f; text-decoration-color: #7f7f7f\">                    </span>\n",
       "<span style=\"color: #7fbfbf; text-decoration-color: #7fbfbf\">           </span>         to fix this.                                                               <span style=\"color: #7f7f7f; text-decoration-color: #7f7f7f\">                    </span>\n",
       "</pre>\n"
      ],
      "text/plain": [
       "\u001b[2;36m          \u001b[0m\u001b[2;36m \u001b[0m\u001b[31mWARNING \u001b[0m Could not identify an external compartment by name and choosing one with   \u001b]8;id=79738;file:///opt/conda/envs/biotools/lib/python3.7/site-packages/cobra/medium/boundary_types.py\u001b\\\u001b[2mboundary_types.py\u001b[0m\u001b]8;;\u001b\\\u001b[2m:\u001b[0m\u001b]8;id=216673;file:///opt/conda/envs/biotools/lib/python3.7/site-packages/cobra/medium/boundary_types.py#91\u001b\\\u001b[2m91\u001b[0m\u001b]8;;\u001b\\\n",
       "\u001b[2;36m           \u001b[0m         the most boundary reactions. That might be complete nonsense or change     \u001b[2m                    \u001b[0m\n",
       "\u001b[2;36m           \u001b[0m         suddenly. Consider renaming your compartments using `Model.compartments`   \u001b[2m                    \u001b[0m\n",
       "\u001b[2;36m           \u001b[0m         to fix this.                                                               \u001b[2m                    \u001b[0m\n"
      ]
     },
     "metadata": {},
     "output_type": "display_data"
    },
    {
     "name": "stdout",
     "output_type": "stream",
     "text": [
      "[[('SYN_D1P1P2_H(1)_M4(1)', [('H', 'CS', 'q8', 1e-07), ('M4', 'Biomass_Ecoli_core', 'fum', 1)])]]\n",
      "proc=1 inner_proc=8 total_inner_samps=1000\n",
      "Started: [('EX_o2_m', 0.0, -2.4630307886795566), ('EX_nh4_m', 0.0, -0.3004289070069514)]\n"
     ]
    },
    {
     "data": {
      "application/vnd.jupyter.widget-view+json": {
       "model_id": "f6f7e0afbf194f768342d9a65b6efcf4",
       "version_major": 2,
       "version_minor": 0
      },
      "text/plain": [
       "Output()"
      ]
     },
     "metadata": {},
     "output_type": "display_data"
    },
    {
     "data": {
      "text/html": [
       "<pre style=\"white-space:pre;overflow-x:auto;line-height:normal;font-family:Menlo,'DejaVu Sans Mono',consolas,'Courier New',monospace\"></pre>\n"
      ],
      "text/plain": []
     },
     "metadata": {},
     "output_type": "display_data"
    },
    {
     "data": {
      "text/html": [
       "<pre style=\"white-space:pre;overflow-x:auto;line-height:normal;font-family:Menlo,'DejaVu Sans Mono',consolas,'Courier New',monospace\">\n",
       "</pre>\n"
      ],
      "text/plain": [
       "\n"
      ]
     },
     "metadata": {},
     "output_type": "display_data"
    },
    {
     "name": "stdout",
     "output_type": "stream",
     "text": [
      "Started: [('EX_o2_m', 0.0, -2.4630307886795566), ('EX_nh4_m', 1.0, -2.395360661363543)]\n"
     ]
    },
    {
     "data": {
      "application/vnd.jupyter.widget-view+json": {
       "model_id": "4fe4c0b426a049f4887a226351b3b290",
       "version_major": 2,
       "version_minor": 0
      },
      "text/plain": [
       "Output()"
      ]
     },
     "metadata": {},
     "output_type": "display_data"
    },
    {
     "data": {
      "text/html": [
       "<pre style=\"white-space:pre;overflow-x:auto;line-height:normal;font-family:Menlo,'DejaVu Sans Mono',consolas,'Courier New',monospace\"></pre>\n"
      ],
      "text/plain": []
     },
     "metadata": {},
     "output_type": "display_data"
    },
    {
     "data": {
      "text/html": [
       "<pre style=\"white-space:pre;overflow-x:auto;line-height:normal;font-family:Menlo,'DejaVu Sans Mono',consolas,'Courier New',monospace\">\n",
       "</pre>\n"
      ],
      "text/plain": [
       "\n"
      ]
     },
     "metadata": {},
     "output_type": "display_data"
    },
    {
     "name": "stdout",
     "output_type": "stream",
     "text": [
      "Started: [('EX_o2_m', 1.0, -25.806095721567843), ('EX_nh4_m', 0.0, -0.3004289070069514)]\n"
     ]
    },
    {
     "data": {
      "application/vnd.jupyter.widget-view+json": {
       "model_id": "2e5655f30b024a949f9cda050e232c72",
       "version_major": 2,
       "version_minor": 0
      },
      "text/plain": [
       "Output()"
      ]
     },
     "metadata": {},
     "output_type": "display_data"
    },
    {
     "data": {
      "text/html": [
       "<pre style=\"white-space:pre;overflow-x:auto;line-height:normal;font-family:Menlo,'DejaVu Sans Mono',consolas,'Courier New',monospace\"></pre>\n"
      ],
      "text/plain": []
     },
     "metadata": {},
     "output_type": "display_data"
    },
    {
     "data": {
      "text/html": [
       "<pre style=\"white-space:pre;overflow-x:auto;line-height:normal;font-family:Menlo,'DejaVu Sans Mono',consolas,'Courier New',monospace\">\n",
       "</pre>\n"
      ],
      "text/plain": [
       "\n"
      ]
     },
     "metadata": {},
     "output_type": "display_data"
    },
    {
     "name": "stdout",
     "output_type": "stream",
     "text": [
      "Started: [('EX_o2_m', 1.0, -25.806095721567843), ('EX_nh4_m', 1.0, -2.395360661363543)]\n"
     ]
    },
    {
     "data": {
      "application/vnd.jupyter.widget-view+json": {
       "model_id": "30099d8b2cfc4652b3a853b9debef6fb",
       "version_major": 2,
       "version_minor": 0
      },
      "text/plain": [
       "Output()"
      ]
     },
     "metadata": {},
     "output_type": "display_data"
    },
    {
     "data": {
      "text/html": [
       "<pre style=\"white-space:pre;overflow-x:auto;line-height:normal;font-family:Menlo,'DejaVu Sans Mono',consolas,'Courier New',monospace\"></pre>\n"
      ],
      "text/plain": []
     },
     "metadata": {},
     "output_type": "display_data"
    },
    {
     "data": {
      "text/html": [
       "<pre style=\"white-space:pre;overflow-x:auto;line-height:normal;font-family:Menlo,'DejaVu Sans Mono',consolas,'Courier New',monospace\">\n",
       "</pre>\n"
      ],
      "text/plain": [
       "\n"
      ]
     },
     "metadata": {},
     "output_type": "display_data"
    },
    {
     "name": "stdout",
     "output_type": "stream",
     "text": [
      "Try number 0 margin = 0.25\n",
      "CS q8\n"
     ]
    },
    {
     "data": {
      "text/html": [
       "<pre style=\"white-space:pre;overflow-x:auto;line-height:normal;font-family:Menlo,'DejaVu Sans Mono',consolas,'Courier New',monospace\"><span style=\"color: #7fbfbf; text-decoration-color: #7fbfbf\">[18:28:32] </span><span style=\"color: #800000; text-decoration-color: #800000\">WARNING </span> Could not identify an external compartment by name and choosing one with   <a href=\"file:///opt/conda/envs/biotools/lib/python3.7/site-packages/cobra/medium/boundary_types.py\" target=\"_blank\"><span style=\"color: #7f7f7f; text-decoration-color: #7f7f7f\">boundary_types.py</span></a><span style=\"color: #7f7f7f; text-decoration-color: #7f7f7f\">:</span><a href=\"file:///opt/conda/envs/biotools/lib/python3.7/site-packages/cobra/medium/boundary_types.py#91\" target=\"_blank\"><span style=\"color: #7f7f7f; text-decoration-color: #7f7f7f\">91</span></a>\n",
       "<span style=\"color: #7fbfbf; text-decoration-color: #7fbfbf\">           </span>         the most boundary reactions. That might be complete nonsense or change     <span style=\"color: #7f7f7f; text-decoration-color: #7f7f7f\">                    </span>\n",
       "<span style=\"color: #7fbfbf; text-decoration-color: #7fbfbf\">           </span>         suddenly. Consider renaming your compartments using `Model.compartments`   <span style=\"color: #7f7f7f; text-decoration-color: #7f7f7f\">                    </span>\n",
       "<span style=\"color: #7fbfbf; text-decoration-color: #7fbfbf\">           </span>         to fix this.                                                               <span style=\"color: #7f7f7f; text-decoration-color: #7f7f7f\">                    </span>\n",
       "</pre>\n"
      ],
      "text/plain": [
       "\u001b[2;36m[18:28:32]\u001b[0m\u001b[2;36m \u001b[0m\u001b[31mWARNING \u001b[0m Could not identify an external compartment by name and choosing one with   \u001b]8;id=861442;file:///opt/conda/envs/biotools/lib/python3.7/site-packages/cobra/medium/boundary_types.py\u001b\\\u001b[2mboundary_types.py\u001b[0m\u001b]8;;\u001b\\\u001b[2m:\u001b[0m\u001b]8;id=989966;file:///opt/conda/envs/biotools/lib/python3.7/site-packages/cobra/medium/boundary_types.py#91\u001b\\\u001b[2m91\u001b[0m\u001b]8;;\u001b\\\n",
       "\u001b[2;36m           \u001b[0m         the most boundary reactions. That might be complete nonsense or change     \u001b[2m                    \u001b[0m\n",
       "\u001b[2;36m           \u001b[0m         suddenly. Consider renaming your compartments using `Model.compartments`   \u001b[2m                    \u001b[0m\n",
       "\u001b[2;36m           \u001b[0m         to fix this.                                                               \u001b[2m                    \u001b[0m\n"
      ]
     },
     "metadata": {},
     "output_type": "display_data"
    },
    {
     "name": "stdout",
     "output_type": "stream",
     "text": [
      "Biomass_Ecoli_core fum\n"
     ]
    },
    {
     "data": {
      "text/html": [
       "<pre style=\"white-space:pre;overflow-x:auto;line-height:normal;font-family:Menlo,'DejaVu Sans Mono',consolas,'Courier New',monospace\"><span style=\"color: #7fbfbf; text-decoration-color: #7fbfbf\">           </span><span style=\"color: #800000; text-decoration-color: #800000\">WARNING </span> Could not identify an external compartment by name and choosing one with   <a href=\"file:///opt/conda/envs/biotools/lib/python3.7/site-packages/cobra/medium/boundary_types.py\" target=\"_blank\"><span style=\"color: #7f7f7f; text-decoration-color: #7f7f7f\">boundary_types.py</span></a><span style=\"color: #7f7f7f; text-decoration-color: #7f7f7f\">:</span><a href=\"file:///opt/conda/envs/biotools/lib/python3.7/site-packages/cobra/medium/boundary_types.py#91\" target=\"_blank\"><span style=\"color: #7f7f7f; text-decoration-color: #7f7f7f\">91</span></a>\n",
       "<span style=\"color: #7fbfbf; text-decoration-color: #7fbfbf\">           </span>         the most boundary reactions. That might be complete nonsense or change     <span style=\"color: #7f7f7f; text-decoration-color: #7f7f7f\">                    </span>\n",
       "<span style=\"color: #7fbfbf; text-decoration-color: #7fbfbf\">           </span>         suddenly. Consider renaming your compartments using `Model.compartments`   <span style=\"color: #7f7f7f; text-decoration-color: #7f7f7f\">                    </span>\n",
       "<span style=\"color: #7fbfbf; text-decoration-color: #7fbfbf\">           </span>         to fix this.                                                               <span style=\"color: #7f7f7f; text-decoration-color: #7f7f7f\">                    </span>\n",
       "</pre>\n"
      ],
      "text/plain": [
       "\u001b[2;36m          \u001b[0m\u001b[2;36m \u001b[0m\u001b[31mWARNING \u001b[0m Could not identify an external compartment by name and choosing one with   \u001b]8;id=323880;file:///opt/conda/envs/biotools/lib/python3.7/site-packages/cobra/medium/boundary_types.py\u001b\\\u001b[2mboundary_types.py\u001b[0m\u001b]8;;\u001b\\\u001b[2m:\u001b[0m\u001b]8;id=440390;file:///opt/conda/envs/biotools/lib/python3.7/site-packages/cobra/medium/boundary_types.py#91\u001b\\\u001b[2m91\u001b[0m\u001b]8;;\u001b\\\n",
       "\u001b[2;36m           \u001b[0m         the most boundary reactions. That might be complete nonsense or change     \u001b[2m                    \u001b[0m\n",
       "\u001b[2;36m           \u001b[0m         suddenly. Consider renaming your compartments using `Model.compartments`   \u001b[2m                    \u001b[0m\n",
       "\u001b[2;36m           \u001b[0m         to fix this.                                                               \u001b[2m                    \u001b[0m\n"
      ]
     },
     "metadata": {},
     "output_type": "display_data"
    },
    {
     "data": {
      "text/html": [
       "<pre style=\"white-space:pre;overflow-x:auto;line-height:normal;font-family:Menlo,'DejaVu Sans Mono',consolas,'Courier New',monospace\"><span style=\"color: #7fbfbf; text-decoration-color: #7fbfbf\">           </span><span style=\"color: #800000; text-decoration-color: #800000\">WARNING </span> Could not identify an external compartment by name and choosing one with   <a href=\"file:///opt/conda/envs/biotools/lib/python3.7/site-packages/cobra/medium/boundary_types.py\" target=\"_blank\"><span style=\"color: #7f7f7f; text-decoration-color: #7f7f7f\">boundary_types.py</span></a><span style=\"color: #7f7f7f; text-decoration-color: #7f7f7f\">:</span><a href=\"file:///opt/conda/envs/biotools/lib/python3.7/site-packages/cobra/medium/boundary_types.py#91\" target=\"_blank\"><span style=\"color: #7f7f7f; text-decoration-color: #7f7f7f\">91</span></a>\n",
       "<span style=\"color: #7fbfbf; text-decoration-color: #7fbfbf\">           </span>         the most boundary reactions. That might be complete nonsense or change     <span style=\"color: #7f7f7f; text-decoration-color: #7f7f7f\">                    </span>\n",
       "<span style=\"color: #7fbfbf; text-decoration-color: #7fbfbf\">           </span>         suddenly. Consider renaming your compartments using `Model.compartments`   <span style=\"color: #7f7f7f; text-decoration-color: #7f7f7f\">                    </span>\n",
       "<span style=\"color: #7fbfbf; text-decoration-color: #7fbfbf\">           </span>         to fix this.                                                               <span style=\"color: #7f7f7f; text-decoration-color: #7f7f7f\">                    </span>\n",
       "</pre>\n"
      ],
      "text/plain": [
       "\u001b[2;36m          \u001b[0m\u001b[2;36m \u001b[0m\u001b[31mWARNING \u001b[0m Could not identify an external compartment by name and choosing one with   \u001b]8;id=724386;file:///opt/conda/envs/biotools/lib/python3.7/site-packages/cobra/medium/boundary_types.py\u001b\\\u001b[2mboundary_types.py\u001b[0m\u001b]8;;\u001b\\\u001b[2m:\u001b[0m\u001b]8;id=454264;file:///opt/conda/envs/biotools/lib/python3.7/site-packages/cobra/medium/boundary_types.py#91\u001b\\\u001b[2m91\u001b[0m\u001b]8;;\u001b\\\n",
       "\u001b[2;36m           \u001b[0m         the most boundary reactions. That might be complete nonsense or change     \u001b[2m                    \u001b[0m\n",
       "\u001b[2;36m           \u001b[0m         suddenly. Consider renaming your compartments using `Model.compartments`   \u001b[2m                    \u001b[0m\n",
       "\u001b[2;36m           \u001b[0m         to fix this.                                                               \u001b[2m                    \u001b[0m\n"
      ]
     },
     "metadata": {},
     "output_type": "display_data"
    },
    {
     "name": "stdout",
     "output_type": "stream",
     "text": [
      "[[('SYN_D1P1P2_H(1)_M4(1)', [('H', 'CS', 'q8', 1e-07), ('M4', 'Biomass_Ecoli_core', 'fum', 1)])]]\n",
      "proc=1 inner_proc=8 total_inner_samps=1000\n",
      "Started: [('EX_o2_m', 0.0, -2.4630307886795566), ('EX_nh4_m', 0.0, -0.3004289070069514)]\n"
     ]
    },
    {
     "data": {
      "application/vnd.jupyter.widget-view+json": {
       "model_id": "67bb5502f45c43929e8f990adcb01073",
       "version_major": 2,
       "version_minor": 0
      },
      "text/plain": [
       "Output()"
      ]
     },
     "metadata": {},
     "output_type": "display_data"
    },
    {
     "data": {
      "text/html": [
       "<pre style=\"white-space:pre;overflow-x:auto;line-height:normal;font-family:Menlo,'DejaVu Sans Mono',consolas,'Courier New',monospace\"></pre>\n"
      ],
      "text/plain": []
     },
     "metadata": {},
     "output_type": "display_data"
    },
    {
     "data": {
      "text/html": [
       "<pre style=\"white-space:pre;overflow-x:auto;line-height:normal;font-family:Menlo,'DejaVu Sans Mono',consolas,'Courier New',monospace\">\n",
       "</pre>\n"
      ],
      "text/plain": [
       "\n"
      ]
     },
     "metadata": {},
     "output_type": "display_data"
    },
    {
     "name": "stdout",
     "output_type": "stream",
     "text": [
      "Started: [('EX_o2_m', 0.0, -2.4630307886795566), ('EX_nh4_m', 1.0, -2.395360661363543)]\n"
     ]
    },
    {
     "data": {
      "application/vnd.jupyter.widget-view+json": {
       "model_id": "2b5b89fb4b77485989ed74e1363f29b4",
       "version_major": 2,
       "version_minor": 0
      },
      "text/plain": [
       "Output()"
      ]
     },
     "metadata": {},
     "output_type": "display_data"
    },
    {
     "data": {
      "text/html": [
       "<pre style=\"white-space:pre;overflow-x:auto;line-height:normal;font-family:Menlo,'DejaVu Sans Mono',consolas,'Courier New',monospace\"></pre>\n"
      ],
      "text/plain": []
     },
     "metadata": {},
     "output_type": "display_data"
    },
    {
     "data": {
      "text/html": [
       "<pre style=\"white-space:pre;overflow-x:auto;line-height:normal;font-family:Menlo,'DejaVu Sans Mono',consolas,'Courier New',monospace\">\n",
       "</pre>\n"
      ],
      "text/plain": [
       "\n"
      ]
     },
     "metadata": {},
     "output_type": "display_data"
    },
    {
     "name": "stdout",
     "output_type": "stream",
     "text": [
      "Started: [('EX_o2_m', 1.0, -25.806095721567843), ('EX_nh4_m', 0.0, -0.3004289070069514)]\n"
     ]
    },
    {
     "data": {
      "application/vnd.jupyter.widget-view+json": {
       "model_id": "c6efcd854c5949318fbff6912ec60a39",
       "version_major": 2,
       "version_minor": 0
      },
      "text/plain": [
       "Output()"
      ]
     },
     "metadata": {},
     "output_type": "display_data"
    },
    {
     "data": {
      "text/html": [
       "<pre style=\"white-space:pre;overflow-x:auto;line-height:normal;font-family:Menlo,'DejaVu Sans Mono',consolas,'Courier New',monospace\"></pre>\n"
      ],
      "text/plain": []
     },
     "metadata": {},
     "output_type": "display_data"
    },
    {
     "data": {
      "text/html": [
       "<pre style=\"white-space:pre;overflow-x:auto;line-height:normal;font-family:Menlo,'DejaVu Sans Mono',consolas,'Courier New',monospace\">\n",
       "</pre>\n"
      ],
      "text/plain": [
       "\n"
      ]
     },
     "metadata": {},
     "output_type": "display_data"
    },
    {
     "name": "stdout",
     "output_type": "stream",
     "text": [
      "Started: [('EX_o2_m', 1.0, -25.806095721567843), ('EX_nh4_m', 1.0, -2.395360661363543)]\n"
     ]
    },
    {
     "data": {
      "application/vnd.jupyter.widget-view+json": {
       "model_id": "9a648b2faa574ed78d7f9df398fe1731",
       "version_major": 2,
       "version_minor": 0
      },
      "text/plain": [
       "Output()"
      ]
     },
     "metadata": {},
     "output_type": "display_data"
    },
    {
     "data": {
      "text/html": [
       "<pre style=\"white-space:pre;overflow-x:auto;line-height:normal;font-family:Menlo,'DejaVu Sans Mono',consolas,'Courier New',monospace\"></pre>\n"
      ],
      "text/plain": []
     },
     "metadata": {},
     "output_type": "display_data"
    },
    {
     "data": {
      "text/html": [
       "<pre style=\"white-space:pre;overflow-x:auto;line-height:normal;font-family:Menlo,'DejaVu Sans Mono',consolas,'Courier New',monospace\">\n",
       "</pre>\n"
      ],
      "text/plain": [
       "\n"
      ]
     },
     "metadata": {},
     "output_type": "display_data"
    },
    {
     "name": "stdout",
     "output_type": "stream",
     "text": [
      "Try number 0 margin = 0.5\n",
      "CS q8\n"
     ]
    },
    {
     "data": {
      "text/html": [
       "<pre style=\"white-space:pre;overflow-x:auto;line-height:normal;font-family:Menlo,'DejaVu Sans Mono',consolas,'Courier New',monospace\"><span style=\"color: #7fbfbf; text-decoration-color: #7fbfbf\">[18:29:44] </span><span style=\"color: #800000; text-decoration-color: #800000\">WARNING </span> Could not identify an external compartment by name and choosing one with   <a href=\"file:///opt/conda/envs/biotools/lib/python3.7/site-packages/cobra/medium/boundary_types.py\" target=\"_blank\"><span style=\"color: #7f7f7f; text-decoration-color: #7f7f7f\">boundary_types.py</span></a><span style=\"color: #7f7f7f; text-decoration-color: #7f7f7f\">:</span><a href=\"file:///opt/conda/envs/biotools/lib/python3.7/site-packages/cobra/medium/boundary_types.py#91\" target=\"_blank\"><span style=\"color: #7f7f7f; text-decoration-color: #7f7f7f\">91</span></a>\n",
       "<span style=\"color: #7fbfbf; text-decoration-color: #7fbfbf\">           </span>         the most boundary reactions. That might be complete nonsense or change     <span style=\"color: #7f7f7f; text-decoration-color: #7f7f7f\">                    </span>\n",
       "<span style=\"color: #7fbfbf; text-decoration-color: #7fbfbf\">           </span>         suddenly. Consider renaming your compartments using `Model.compartments`   <span style=\"color: #7f7f7f; text-decoration-color: #7f7f7f\">                    </span>\n",
       "<span style=\"color: #7fbfbf; text-decoration-color: #7fbfbf\">           </span>         to fix this.                                                               <span style=\"color: #7f7f7f; text-decoration-color: #7f7f7f\">                    </span>\n",
       "</pre>\n"
      ],
      "text/plain": [
       "\u001b[2;36m[18:29:44]\u001b[0m\u001b[2;36m \u001b[0m\u001b[31mWARNING \u001b[0m Could not identify an external compartment by name and choosing one with   \u001b]8;id=156698;file:///opt/conda/envs/biotools/lib/python3.7/site-packages/cobra/medium/boundary_types.py\u001b\\\u001b[2mboundary_types.py\u001b[0m\u001b]8;;\u001b\\\u001b[2m:\u001b[0m\u001b]8;id=760983;file:///opt/conda/envs/biotools/lib/python3.7/site-packages/cobra/medium/boundary_types.py#91\u001b\\\u001b[2m91\u001b[0m\u001b]8;;\u001b\\\n",
       "\u001b[2;36m           \u001b[0m         the most boundary reactions. That might be complete nonsense or change     \u001b[2m                    \u001b[0m\n",
       "\u001b[2;36m           \u001b[0m         suddenly. Consider renaming your compartments using `Model.compartments`   \u001b[2m                    \u001b[0m\n",
       "\u001b[2;36m           \u001b[0m         to fix this.                                                               \u001b[2m                    \u001b[0m\n"
      ]
     },
     "metadata": {},
     "output_type": "display_data"
    },
    {
     "name": "stdout",
     "output_type": "stream",
     "text": [
      "Biomass_Ecoli_core fum\n"
     ]
    },
    {
     "data": {
      "text/html": [
       "<pre style=\"white-space:pre;overflow-x:auto;line-height:normal;font-family:Menlo,'DejaVu Sans Mono',consolas,'Courier New',monospace\"><span style=\"color: #7fbfbf; text-decoration-color: #7fbfbf\">           </span><span style=\"color: #800000; text-decoration-color: #800000\">WARNING </span> Could not identify an external compartment by name and choosing one with   <a href=\"file:///opt/conda/envs/biotools/lib/python3.7/site-packages/cobra/medium/boundary_types.py\" target=\"_blank\"><span style=\"color: #7f7f7f; text-decoration-color: #7f7f7f\">boundary_types.py</span></a><span style=\"color: #7f7f7f; text-decoration-color: #7f7f7f\">:</span><a href=\"file:///opt/conda/envs/biotools/lib/python3.7/site-packages/cobra/medium/boundary_types.py#91\" target=\"_blank\"><span style=\"color: #7f7f7f; text-decoration-color: #7f7f7f\">91</span></a>\n",
       "<span style=\"color: #7fbfbf; text-decoration-color: #7fbfbf\">           </span>         the most boundary reactions. That might be complete nonsense or change     <span style=\"color: #7f7f7f; text-decoration-color: #7f7f7f\">                    </span>\n",
       "<span style=\"color: #7fbfbf; text-decoration-color: #7fbfbf\">           </span>         suddenly. Consider renaming your compartments using `Model.compartments`   <span style=\"color: #7f7f7f; text-decoration-color: #7f7f7f\">                    </span>\n",
       "<span style=\"color: #7fbfbf; text-decoration-color: #7fbfbf\">           </span>         to fix this.                                                               <span style=\"color: #7f7f7f; text-decoration-color: #7f7f7f\">                    </span>\n",
       "</pre>\n"
      ],
      "text/plain": [
       "\u001b[2;36m          \u001b[0m\u001b[2;36m \u001b[0m\u001b[31mWARNING \u001b[0m Could not identify an external compartment by name and choosing one with   \u001b]8;id=943374;file:///opt/conda/envs/biotools/lib/python3.7/site-packages/cobra/medium/boundary_types.py\u001b\\\u001b[2mboundary_types.py\u001b[0m\u001b]8;;\u001b\\\u001b[2m:\u001b[0m\u001b]8;id=697545;file:///opt/conda/envs/biotools/lib/python3.7/site-packages/cobra/medium/boundary_types.py#91\u001b\\\u001b[2m91\u001b[0m\u001b]8;;\u001b\\\n",
       "\u001b[2;36m           \u001b[0m         the most boundary reactions. That might be complete nonsense or change     \u001b[2m                    \u001b[0m\n",
       "\u001b[2;36m           \u001b[0m         suddenly. Consider renaming your compartments using `Model.compartments`   \u001b[2m                    \u001b[0m\n",
       "\u001b[2;36m           \u001b[0m         to fix this.                                                               \u001b[2m                    \u001b[0m\n"
      ]
     },
     "metadata": {},
     "output_type": "display_data"
    },
    {
     "data": {
      "text/html": [
       "<pre style=\"white-space:pre;overflow-x:auto;line-height:normal;font-family:Menlo,'DejaVu Sans Mono',consolas,'Courier New',monospace\"><span style=\"color: #7fbfbf; text-decoration-color: #7fbfbf\">           </span><span style=\"color: #800000; text-decoration-color: #800000\">WARNING </span> Could not identify an external compartment by name and choosing one with   <a href=\"file:///opt/conda/envs/biotools/lib/python3.7/site-packages/cobra/medium/boundary_types.py\" target=\"_blank\"><span style=\"color: #7f7f7f; text-decoration-color: #7f7f7f\">boundary_types.py</span></a><span style=\"color: #7f7f7f; text-decoration-color: #7f7f7f\">:</span><a href=\"file:///opt/conda/envs/biotools/lib/python3.7/site-packages/cobra/medium/boundary_types.py#91\" target=\"_blank\"><span style=\"color: #7f7f7f; text-decoration-color: #7f7f7f\">91</span></a>\n",
       "<span style=\"color: #7fbfbf; text-decoration-color: #7fbfbf\">           </span>         the most boundary reactions. That might be complete nonsense or change     <span style=\"color: #7f7f7f; text-decoration-color: #7f7f7f\">                    </span>\n",
       "<span style=\"color: #7fbfbf; text-decoration-color: #7fbfbf\">           </span>         suddenly. Consider renaming your compartments using `Model.compartments`   <span style=\"color: #7f7f7f; text-decoration-color: #7f7f7f\">                    </span>\n",
       "<span style=\"color: #7fbfbf; text-decoration-color: #7fbfbf\">           </span>         to fix this.                                                               <span style=\"color: #7f7f7f; text-decoration-color: #7f7f7f\">                    </span>\n",
       "</pre>\n"
      ],
      "text/plain": [
       "\u001b[2;36m          \u001b[0m\u001b[2;36m \u001b[0m\u001b[31mWARNING \u001b[0m Could not identify an external compartment by name and choosing one with   \u001b]8;id=15866;file:///opt/conda/envs/biotools/lib/python3.7/site-packages/cobra/medium/boundary_types.py\u001b\\\u001b[2mboundary_types.py\u001b[0m\u001b]8;;\u001b\\\u001b[2m:\u001b[0m\u001b]8;id=576401;file:///opt/conda/envs/biotools/lib/python3.7/site-packages/cobra/medium/boundary_types.py#91\u001b\\\u001b[2m91\u001b[0m\u001b]8;;\u001b\\\n",
       "\u001b[2;36m           \u001b[0m         the most boundary reactions. That might be complete nonsense or change     \u001b[2m                    \u001b[0m\n",
       "\u001b[2;36m           \u001b[0m         suddenly. Consider renaming your compartments using `Model.compartments`   \u001b[2m                    \u001b[0m\n",
       "\u001b[2;36m           \u001b[0m         to fix this.                                                               \u001b[2m                    \u001b[0m\n"
      ]
     },
     "metadata": {},
     "output_type": "display_data"
    },
    {
     "name": "stdout",
     "output_type": "stream",
     "text": [
      "[[('SYN_D1P1P2_H(1)_M4(1)', [('H', 'CS', 'q8', 1e-07), ('M4', 'Biomass_Ecoli_core', 'fum', 1)])]]\n",
      "proc=1 inner_proc=8 total_inner_samps=1000\n",
      "Started: [('EX_o2_m', 0.0, -2.4630307886795566), ('EX_nh4_m', 0.0, -0.3004289070069514)]\n"
     ]
    },
    {
     "data": {
      "application/vnd.jupyter.widget-view+json": {
       "model_id": "1fe6111ba4c347f0abaf64f891489d88",
       "version_major": 2,
       "version_minor": 0
      },
      "text/plain": [
       "Output()"
      ]
     },
     "metadata": {},
     "output_type": "display_data"
    },
    {
     "data": {
      "text/html": [
       "<pre style=\"white-space:pre;overflow-x:auto;line-height:normal;font-family:Menlo,'DejaVu Sans Mono',consolas,'Courier New',monospace\"></pre>\n"
      ],
      "text/plain": []
     },
     "metadata": {},
     "output_type": "display_data"
    },
    {
     "data": {
      "text/html": [
       "<pre style=\"white-space:pre;overflow-x:auto;line-height:normal;font-family:Menlo,'DejaVu Sans Mono',consolas,'Courier New',monospace\">\n",
       "</pre>\n"
      ],
      "text/plain": [
       "\n"
      ]
     },
     "metadata": {},
     "output_type": "display_data"
    },
    {
     "name": "stdout",
     "output_type": "stream",
     "text": [
      "Started: [('EX_o2_m', 0.0, -2.4630307886795566), ('EX_nh4_m', 1.0, -2.395360661363543)]\n"
     ]
    },
    {
     "data": {
      "application/vnd.jupyter.widget-view+json": {
       "model_id": "8f6bf92731ce445c9afa9ec49aae6b08",
       "version_major": 2,
       "version_minor": 0
      },
      "text/plain": [
       "Output()"
      ]
     },
     "metadata": {},
     "output_type": "display_data"
    },
    {
     "data": {
      "text/html": [
       "<pre style=\"white-space:pre;overflow-x:auto;line-height:normal;font-family:Menlo,'DejaVu Sans Mono',consolas,'Courier New',monospace\"></pre>\n"
      ],
      "text/plain": []
     },
     "metadata": {},
     "output_type": "display_data"
    },
    {
     "data": {
      "text/html": [
       "<pre style=\"white-space:pre;overflow-x:auto;line-height:normal;font-family:Menlo,'DejaVu Sans Mono',consolas,'Courier New',monospace\">\n",
       "</pre>\n"
      ],
      "text/plain": [
       "\n"
      ]
     },
     "metadata": {},
     "output_type": "display_data"
    },
    {
     "name": "stdout",
     "output_type": "stream",
     "text": [
      "Started: [('EX_o2_m', 1.0, -25.806095721567843), ('EX_nh4_m', 0.0, -0.3004289070069514)]\n"
     ]
    },
    {
     "data": {
      "application/vnd.jupyter.widget-view+json": {
       "model_id": "5ee08d479b324075a520c691f63fd687",
       "version_major": 2,
       "version_minor": 0
      },
      "text/plain": [
       "Output()"
      ]
     },
     "metadata": {},
     "output_type": "display_data"
    },
    {
     "data": {
      "text/html": [
       "<pre style=\"white-space:pre;overflow-x:auto;line-height:normal;font-family:Menlo,'DejaVu Sans Mono',consolas,'Courier New',monospace\"></pre>\n"
      ],
      "text/plain": []
     },
     "metadata": {},
     "output_type": "display_data"
    },
    {
     "data": {
      "text/html": [
       "<pre style=\"white-space:pre;overflow-x:auto;line-height:normal;font-family:Menlo,'DejaVu Sans Mono',consolas,'Courier New',monospace\">\n",
       "</pre>\n"
      ],
      "text/plain": [
       "\n"
      ]
     },
     "metadata": {},
     "output_type": "display_data"
    },
    {
     "name": "stdout",
     "output_type": "stream",
     "text": [
      "Started: [('EX_o2_m', 1.0, -25.806095721567843), ('EX_nh4_m', 1.0, -2.395360661363543)]\n"
     ]
    },
    {
     "data": {
      "application/vnd.jupyter.widget-view+json": {
       "model_id": "eb7b7537c6aa46ec8223fc5352d74add",
       "version_major": 2,
       "version_minor": 0
      },
      "text/plain": [
       "Output()"
      ]
     },
     "metadata": {},
     "output_type": "display_data"
    },
    {
     "data": {
      "text/html": [
       "<pre style=\"white-space:pre;overflow-x:auto;line-height:normal;font-family:Menlo,'DejaVu Sans Mono',consolas,'Courier New',monospace\"></pre>\n"
      ],
      "text/plain": []
     },
     "metadata": {},
     "output_type": "display_data"
    },
    {
     "data": {
      "text/html": [
       "<pre style=\"white-space:pre;overflow-x:auto;line-height:normal;font-family:Menlo,'DejaVu Sans Mono',consolas,'Courier New',monospace\">\n",
       "</pre>\n"
      ],
      "text/plain": [
       "\n"
      ]
     },
     "metadata": {},
     "output_type": "display_data"
    },
    {
     "name": "stdout",
     "output_type": "stream",
     "text": [
      "======================================== GENERATING FOR: 103 -- [[('SYN_D1P1P2_H(0)_M1(1)', [('M1', 'Biomass_Ecoli_core', 'fum', 1)])]] -- ../../data/benchmark_data/SET103_L2_M10_T10 ======================================== \n",
      "\n",
      "\n",
      "\n",
      "\n",
      "Try number 0 margin = 0.01\n",
      "Biomass_Ecoli_core fum\n"
     ]
    },
    {
     "data": {
      "text/html": [
       "<pre style=\"white-space:pre;overflow-x:auto;line-height:normal;font-family:Menlo,'DejaVu Sans Mono',consolas,'Courier New',monospace\"><span style=\"color: #7fbfbf; text-decoration-color: #7fbfbf\">[18:30:55] </span><span style=\"color: #800000; text-decoration-color: #800000\">WARNING </span> Could not identify an external compartment by name and choosing one with   <a href=\"file:///opt/conda/envs/biotools/lib/python3.7/site-packages/cobra/medium/boundary_types.py\" target=\"_blank\"><span style=\"color: #7f7f7f; text-decoration-color: #7f7f7f\">boundary_types.py</span></a><span style=\"color: #7f7f7f; text-decoration-color: #7f7f7f\">:</span><a href=\"file:///opt/conda/envs/biotools/lib/python3.7/site-packages/cobra/medium/boundary_types.py#91\" target=\"_blank\"><span style=\"color: #7f7f7f; text-decoration-color: #7f7f7f\">91</span></a>\n",
       "<span style=\"color: #7fbfbf; text-decoration-color: #7fbfbf\">           </span>         the most boundary reactions. That might be complete nonsense or change     <span style=\"color: #7f7f7f; text-decoration-color: #7f7f7f\">                    </span>\n",
       "<span style=\"color: #7fbfbf; text-decoration-color: #7fbfbf\">           </span>         suddenly. Consider renaming your compartments using `Model.compartments`   <span style=\"color: #7f7f7f; text-decoration-color: #7f7f7f\">                    </span>\n",
       "<span style=\"color: #7fbfbf; text-decoration-color: #7fbfbf\">           </span>         to fix this.                                                               <span style=\"color: #7f7f7f; text-decoration-color: #7f7f7f\">                    </span>\n",
       "</pre>\n"
      ],
      "text/plain": [
       "\u001b[2;36m[18:30:55]\u001b[0m\u001b[2;36m \u001b[0m\u001b[31mWARNING \u001b[0m Could not identify an external compartment by name and choosing one with   \u001b]8;id=946415;file:///opt/conda/envs/biotools/lib/python3.7/site-packages/cobra/medium/boundary_types.py\u001b\\\u001b[2mboundary_types.py\u001b[0m\u001b]8;;\u001b\\\u001b[2m:\u001b[0m\u001b]8;id=344940;file:///opt/conda/envs/biotools/lib/python3.7/site-packages/cobra/medium/boundary_types.py#91\u001b\\\u001b[2m91\u001b[0m\u001b]8;;\u001b\\\n",
       "\u001b[2;36m           \u001b[0m         the most boundary reactions. That might be complete nonsense or change     \u001b[2m                    \u001b[0m\n",
       "\u001b[2;36m           \u001b[0m         suddenly. Consider renaming your compartments using `Model.compartments`   \u001b[2m                    \u001b[0m\n",
       "\u001b[2;36m           \u001b[0m         to fix this.                                                               \u001b[2m                    \u001b[0m\n"
      ]
     },
     "metadata": {},
     "output_type": "display_data"
    },
    {
     "name": "stdout",
     "output_type": "stream",
     "text": [
      "[[('SYN_D1P1P2_H(0)_M1(1)', [('M1', 'Biomass_Ecoli_core', 'fum', 1)])]]\n",
      "proc=1 inner_proc=8 total_inner_samps=1000\n",
      "Started: [('EX_o2_m', 0.0, -2.4630307886795566), ('EX_nh4_m', 0.0, -0.3004289070069514)]\n"
     ]
    },
    {
     "data": {
      "application/vnd.jupyter.widget-view+json": {
       "model_id": "0db0decbfb1d4295be07234ebaabe2df",
       "version_major": 2,
       "version_minor": 0
      },
      "text/plain": [
       "Output()"
      ]
     },
     "metadata": {},
     "output_type": "display_data"
    },
    {
     "data": {
      "text/html": [
       "<pre style=\"white-space:pre;overflow-x:auto;line-height:normal;font-family:Menlo,'DejaVu Sans Mono',consolas,'Courier New',monospace\"></pre>\n"
      ],
      "text/plain": []
     },
     "metadata": {},
     "output_type": "display_data"
    },
    {
     "data": {
      "text/html": [
       "<pre style=\"white-space:pre;overflow-x:auto;line-height:normal;font-family:Menlo,'DejaVu Sans Mono',consolas,'Courier New',monospace\">\n",
       "</pre>\n"
      ],
      "text/plain": [
       "\n"
      ]
     },
     "metadata": {},
     "output_type": "display_data"
    },
    {
     "name": "stdout",
     "output_type": "stream",
     "text": [
      "Started: [('EX_o2_m', 0.0, -2.4630307886795566), ('EX_nh4_m', 1.0, -2.395360661363543)]\n"
     ]
    },
    {
     "data": {
      "application/vnd.jupyter.widget-view+json": {
       "model_id": "f543c9f63b0342b689bc53cf80bd7259",
       "version_major": 2,
       "version_minor": 0
      },
      "text/plain": [
       "Output()"
      ]
     },
     "metadata": {},
     "output_type": "display_data"
    },
    {
     "data": {
      "text/html": [
       "<pre style=\"white-space:pre;overflow-x:auto;line-height:normal;font-family:Menlo,'DejaVu Sans Mono',consolas,'Courier New',monospace\"></pre>\n"
      ],
      "text/plain": []
     },
     "metadata": {},
     "output_type": "display_data"
    },
    {
     "data": {
      "text/html": [
       "<pre style=\"white-space:pre;overflow-x:auto;line-height:normal;font-family:Menlo,'DejaVu Sans Mono',consolas,'Courier New',monospace\">\n",
       "</pre>\n"
      ],
      "text/plain": [
       "\n"
      ]
     },
     "metadata": {},
     "output_type": "display_data"
    },
    {
     "name": "stdout",
     "output_type": "stream",
     "text": [
      "Started: [('EX_o2_m', 1.0, -25.806095721567843), ('EX_nh4_m', 0.0, -0.3004289070069514)]\n"
     ]
    },
    {
     "data": {
      "application/vnd.jupyter.widget-view+json": {
       "model_id": "c87c62778a53468988f28152bb67f92c",
       "version_major": 2,
       "version_minor": 0
      },
      "text/plain": [
       "Output()"
      ]
     },
     "metadata": {},
     "output_type": "display_data"
    },
    {
     "data": {
      "text/html": [
       "<pre style=\"white-space:pre;overflow-x:auto;line-height:normal;font-family:Menlo,'DejaVu Sans Mono',consolas,'Courier New',monospace\"></pre>\n"
      ],
      "text/plain": []
     },
     "metadata": {},
     "output_type": "display_data"
    },
    {
     "data": {
      "text/html": [
       "<pre style=\"white-space:pre;overflow-x:auto;line-height:normal;font-family:Menlo,'DejaVu Sans Mono',consolas,'Courier New',monospace\">\n",
       "</pre>\n"
      ],
      "text/plain": [
       "\n"
      ]
     },
     "metadata": {},
     "output_type": "display_data"
    },
    {
     "name": "stdout",
     "output_type": "stream",
     "text": [
      "Started: [('EX_o2_m', 1.0, -25.806095721567843), ('EX_nh4_m', 1.0, -2.395360661363543)]\n"
     ]
    },
    {
     "data": {
      "application/vnd.jupyter.widget-view+json": {
       "model_id": "57d1b9956c7345f289a1ff1cb7429806",
       "version_major": 2,
       "version_minor": 0
      },
      "text/plain": [
       "Output()"
      ]
     },
     "metadata": {},
     "output_type": "display_data"
    },
    {
     "data": {
      "text/html": [
       "<pre style=\"white-space:pre;overflow-x:auto;line-height:normal;font-family:Menlo,'DejaVu Sans Mono',consolas,'Courier New',monospace\"></pre>\n"
      ],
      "text/plain": []
     },
     "metadata": {},
     "output_type": "display_data"
    },
    {
     "data": {
      "text/html": [
       "<pre style=\"white-space:pre;overflow-x:auto;line-height:normal;font-family:Menlo,'DejaVu Sans Mono',consolas,'Courier New',monospace\">\n",
       "</pre>\n"
      ],
      "text/plain": [
       "\n"
      ]
     },
     "metadata": {},
     "output_type": "display_data"
    },
    {
     "name": "stdout",
     "output_type": "stream",
     "text": [
      "Try number 0 margin = 0.1\n",
      "Biomass_Ecoli_core fum\n"
     ]
    },
    {
     "data": {
      "text/html": [
       "<pre style=\"white-space:pre;overflow-x:auto;line-height:normal;font-family:Menlo,'DejaVu Sans Mono',consolas,'Courier New',monospace\"><span style=\"color: #7fbfbf; text-decoration-color: #7fbfbf\">[18:32:06] </span><span style=\"color: #800000; text-decoration-color: #800000\">WARNING </span> Could not identify an external compartment by name and choosing one with   <a href=\"file:///opt/conda/envs/biotools/lib/python3.7/site-packages/cobra/medium/boundary_types.py\" target=\"_blank\"><span style=\"color: #7f7f7f; text-decoration-color: #7f7f7f\">boundary_types.py</span></a><span style=\"color: #7f7f7f; text-decoration-color: #7f7f7f\">:</span><a href=\"file:///opt/conda/envs/biotools/lib/python3.7/site-packages/cobra/medium/boundary_types.py#91\" target=\"_blank\"><span style=\"color: #7f7f7f; text-decoration-color: #7f7f7f\">91</span></a>\n",
       "<span style=\"color: #7fbfbf; text-decoration-color: #7fbfbf\">           </span>         the most boundary reactions. That might be complete nonsense or change     <span style=\"color: #7f7f7f; text-decoration-color: #7f7f7f\">                    </span>\n",
       "<span style=\"color: #7fbfbf; text-decoration-color: #7fbfbf\">           </span>         suddenly. Consider renaming your compartments using `Model.compartments`   <span style=\"color: #7f7f7f; text-decoration-color: #7f7f7f\">                    </span>\n",
       "<span style=\"color: #7fbfbf; text-decoration-color: #7fbfbf\">           </span>         to fix this.                                                               <span style=\"color: #7f7f7f; text-decoration-color: #7f7f7f\">                    </span>\n",
       "</pre>\n"
      ],
      "text/plain": [
       "\u001b[2;36m[18:32:06]\u001b[0m\u001b[2;36m \u001b[0m\u001b[31mWARNING \u001b[0m Could not identify an external compartment by name and choosing one with   \u001b]8;id=495312;file:///opt/conda/envs/biotools/lib/python3.7/site-packages/cobra/medium/boundary_types.py\u001b\\\u001b[2mboundary_types.py\u001b[0m\u001b]8;;\u001b\\\u001b[2m:\u001b[0m\u001b]8;id=604686;file:///opt/conda/envs/biotools/lib/python3.7/site-packages/cobra/medium/boundary_types.py#91\u001b\\\u001b[2m91\u001b[0m\u001b]8;;\u001b\\\n",
       "\u001b[2;36m           \u001b[0m         the most boundary reactions. That might be complete nonsense or change     \u001b[2m                    \u001b[0m\n",
       "\u001b[2;36m           \u001b[0m         suddenly. Consider renaming your compartments using `Model.compartments`   \u001b[2m                    \u001b[0m\n",
       "\u001b[2;36m           \u001b[0m         to fix this.                                                               \u001b[2m                    \u001b[0m\n"
      ]
     },
     "metadata": {},
     "output_type": "display_data"
    },
    {
     "name": "stdout",
     "output_type": "stream",
     "text": [
      "[[('SYN_D1P1P2_H(0)_M1(1)', [('M1', 'Biomass_Ecoli_core', 'fum', 1)])]]\n",
      "proc=1 inner_proc=8 total_inner_samps=1000\n",
      "Started: [('EX_o2_m', 0.0, -2.4630307886795566), ('EX_nh4_m', 0.0, -0.3004289070069514)]\n"
     ]
    },
    {
     "data": {
      "application/vnd.jupyter.widget-view+json": {
       "model_id": "a4df9e4c72af40bb95fe0f9a789578ef",
       "version_major": 2,
       "version_minor": 0
      },
      "text/plain": [
       "Output()"
      ]
     },
     "metadata": {},
     "output_type": "display_data"
    },
    {
     "data": {
      "text/html": [
       "<pre style=\"white-space:pre;overflow-x:auto;line-height:normal;font-family:Menlo,'DejaVu Sans Mono',consolas,'Courier New',monospace\"></pre>\n"
      ],
      "text/plain": []
     },
     "metadata": {},
     "output_type": "display_data"
    },
    {
     "data": {
      "text/html": [
       "<pre style=\"white-space:pre;overflow-x:auto;line-height:normal;font-family:Menlo,'DejaVu Sans Mono',consolas,'Courier New',monospace\">\n",
       "</pre>\n"
      ],
      "text/plain": [
       "\n"
      ]
     },
     "metadata": {},
     "output_type": "display_data"
    },
    {
     "name": "stdout",
     "output_type": "stream",
     "text": [
      "Started: [('EX_o2_m', 0.0, -2.4630307886795566), ('EX_nh4_m', 1.0, -2.395360661363543)]\n"
     ]
    },
    {
     "data": {
      "application/vnd.jupyter.widget-view+json": {
       "model_id": "db4138aab5eb4143bf4968bda99f246c",
       "version_major": 2,
       "version_minor": 0
      },
      "text/plain": [
       "Output()"
      ]
     },
     "metadata": {},
     "output_type": "display_data"
    },
    {
     "data": {
      "text/html": [
       "<pre style=\"white-space:pre;overflow-x:auto;line-height:normal;font-family:Menlo,'DejaVu Sans Mono',consolas,'Courier New',monospace\"></pre>\n"
      ],
      "text/plain": []
     },
     "metadata": {},
     "output_type": "display_data"
    },
    {
     "data": {
      "text/html": [
       "<pre style=\"white-space:pre;overflow-x:auto;line-height:normal;font-family:Menlo,'DejaVu Sans Mono',consolas,'Courier New',monospace\">\n",
       "</pre>\n"
      ],
      "text/plain": [
       "\n"
      ]
     },
     "metadata": {},
     "output_type": "display_data"
    },
    {
     "name": "stdout",
     "output_type": "stream",
     "text": [
      "Started: [('EX_o2_m', 1.0, -25.806095721567843), ('EX_nh4_m', 0.0, -0.3004289070069514)]\n"
     ]
    },
    {
     "data": {
      "application/vnd.jupyter.widget-view+json": {
       "model_id": "cbd7ffb16fc140acb9d601889461ab41",
       "version_major": 2,
       "version_minor": 0
      },
      "text/plain": [
       "Output()"
      ]
     },
     "metadata": {},
     "output_type": "display_data"
    },
    {
     "data": {
      "text/html": [
       "<pre style=\"white-space:pre;overflow-x:auto;line-height:normal;font-family:Menlo,'DejaVu Sans Mono',consolas,'Courier New',monospace\"></pre>\n"
      ],
      "text/plain": []
     },
     "metadata": {},
     "output_type": "display_data"
    },
    {
     "data": {
      "text/html": [
       "<pre style=\"white-space:pre;overflow-x:auto;line-height:normal;font-family:Menlo,'DejaVu Sans Mono',consolas,'Courier New',monospace\">\n",
       "</pre>\n"
      ],
      "text/plain": [
       "\n"
      ]
     },
     "metadata": {},
     "output_type": "display_data"
    },
    {
     "name": "stdout",
     "output_type": "stream",
     "text": [
      "Started: [('EX_o2_m', 1.0, -25.806095721567843), ('EX_nh4_m', 1.0, -2.395360661363543)]\n"
     ]
    },
    {
     "data": {
      "application/vnd.jupyter.widget-view+json": {
       "model_id": "2451d2383d804058864eca91993beb72",
       "version_major": 2,
       "version_minor": 0
      },
      "text/plain": [
       "Output()"
      ]
     },
     "metadata": {},
     "output_type": "display_data"
    },
    {
     "data": {
      "text/html": [
       "<pre style=\"white-space:pre;overflow-x:auto;line-height:normal;font-family:Menlo,'DejaVu Sans Mono',consolas,'Courier New',monospace\"></pre>\n"
      ],
      "text/plain": []
     },
     "metadata": {},
     "output_type": "display_data"
    },
    {
     "data": {
      "text/html": [
       "<pre style=\"white-space:pre;overflow-x:auto;line-height:normal;font-family:Menlo,'DejaVu Sans Mono',consolas,'Courier New',monospace\">\n",
       "</pre>\n"
      ],
      "text/plain": [
       "\n"
      ]
     },
     "metadata": {},
     "output_type": "display_data"
    },
    {
     "name": "stdout",
     "output_type": "stream",
     "text": [
      "Try number 0 margin = 0.25\n",
      "Biomass_Ecoli_core fum\n"
     ]
    },
    {
     "data": {
      "text/html": [
       "<pre style=\"white-space:pre;overflow-x:auto;line-height:normal;font-family:Menlo,'DejaVu Sans Mono',consolas,'Courier New',monospace\"><span style=\"color: #7fbfbf; text-decoration-color: #7fbfbf\">[18:33:17] </span><span style=\"color: #800000; text-decoration-color: #800000\">WARNING </span> Could not identify an external compartment by name and choosing one with   <a href=\"file:///opt/conda/envs/biotools/lib/python3.7/site-packages/cobra/medium/boundary_types.py\" target=\"_blank\"><span style=\"color: #7f7f7f; text-decoration-color: #7f7f7f\">boundary_types.py</span></a><span style=\"color: #7f7f7f; text-decoration-color: #7f7f7f\">:</span><a href=\"file:///opt/conda/envs/biotools/lib/python3.7/site-packages/cobra/medium/boundary_types.py#91\" target=\"_blank\"><span style=\"color: #7f7f7f; text-decoration-color: #7f7f7f\">91</span></a>\n",
       "<span style=\"color: #7fbfbf; text-decoration-color: #7fbfbf\">           </span>         the most boundary reactions. That might be complete nonsense or change     <span style=\"color: #7f7f7f; text-decoration-color: #7f7f7f\">                    </span>\n",
       "<span style=\"color: #7fbfbf; text-decoration-color: #7fbfbf\">           </span>         suddenly. Consider renaming your compartments using `Model.compartments`   <span style=\"color: #7f7f7f; text-decoration-color: #7f7f7f\">                    </span>\n",
       "<span style=\"color: #7fbfbf; text-decoration-color: #7fbfbf\">           </span>         to fix this.                                                               <span style=\"color: #7f7f7f; text-decoration-color: #7f7f7f\">                    </span>\n",
       "</pre>\n"
      ],
      "text/plain": [
       "\u001b[2;36m[18:33:17]\u001b[0m\u001b[2;36m \u001b[0m\u001b[31mWARNING \u001b[0m Could not identify an external compartment by name and choosing one with   \u001b]8;id=288355;file:///opt/conda/envs/biotools/lib/python3.7/site-packages/cobra/medium/boundary_types.py\u001b\\\u001b[2mboundary_types.py\u001b[0m\u001b]8;;\u001b\\\u001b[2m:\u001b[0m\u001b]8;id=396371;file:///opt/conda/envs/biotools/lib/python3.7/site-packages/cobra/medium/boundary_types.py#91\u001b\\\u001b[2m91\u001b[0m\u001b]8;;\u001b\\\n",
       "\u001b[2;36m           \u001b[0m         the most boundary reactions. That might be complete nonsense or change     \u001b[2m                    \u001b[0m\n",
       "\u001b[2;36m           \u001b[0m         suddenly. Consider renaming your compartments using `Model.compartments`   \u001b[2m                    \u001b[0m\n",
       "\u001b[2;36m           \u001b[0m         to fix this.                                                               \u001b[2m                    \u001b[0m\n"
      ]
     },
     "metadata": {},
     "output_type": "display_data"
    },
    {
     "name": "stdout",
     "output_type": "stream",
     "text": [
      "[[('SYN_D1P1P2_H(0)_M1(1)', [('M1', 'Biomass_Ecoli_core', 'fum', 1)])]]\n",
      "proc=1 inner_proc=8 total_inner_samps=1000\n",
      "Started: [('EX_o2_m', 0.0, -2.4630307886795566), ('EX_nh4_m', 0.0, -0.3004289070069514)]\n"
     ]
    },
    {
     "data": {
      "application/vnd.jupyter.widget-view+json": {
       "model_id": "a48f11ebee58461a94d5e4ac5040a4ed",
       "version_major": 2,
       "version_minor": 0
      },
      "text/plain": [
       "Output()"
      ]
     },
     "metadata": {},
     "output_type": "display_data"
    },
    {
     "data": {
      "text/html": [
       "<pre style=\"white-space:pre;overflow-x:auto;line-height:normal;font-family:Menlo,'DejaVu Sans Mono',consolas,'Courier New',monospace\"></pre>\n"
      ],
      "text/plain": []
     },
     "metadata": {},
     "output_type": "display_data"
    },
    {
     "data": {
      "text/html": [
       "<pre style=\"white-space:pre;overflow-x:auto;line-height:normal;font-family:Menlo,'DejaVu Sans Mono',consolas,'Courier New',monospace\">\n",
       "</pre>\n"
      ],
      "text/plain": [
       "\n"
      ]
     },
     "metadata": {},
     "output_type": "display_data"
    },
    {
     "name": "stdout",
     "output_type": "stream",
     "text": [
      "Started: [('EX_o2_m', 0.0, -2.4630307886795566), ('EX_nh4_m', 1.0, -2.395360661363543)]\n"
     ]
    },
    {
     "data": {
      "application/vnd.jupyter.widget-view+json": {
       "model_id": "b2b56e34293a41e58a8c07e15867cbbe",
       "version_major": 2,
       "version_minor": 0
      },
      "text/plain": [
       "Output()"
      ]
     },
     "metadata": {},
     "output_type": "display_data"
    },
    {
     "data": {
      "text/html": [
       "<pre style=\"white-space:pre;overflow-x:auto;line-height:normal;font-family:Menlo,'DejaVu Sans Mono',consolas,'Courier New',monospace\"></pre>\n"
      ],
      "text/plain": []
     },
     "metadata": {},
     "output_type": "display_data"
    },
    {
     "data": {
      "text/html": [
       "<pre style=\"white-space:pre;overflow-x:auto;line-height:normal;font-family:Menlo,'DejaVu Sans Mono',consolas,'Courier New',monospace\">\n",
       "</pre>\n"
      ],
      "text/plain": [
       "\n"
      ]
     },
     "metadata": {},
     "output_type": "display_data"
    },
    {
     "name": "stdout",
     "output_type": "stream",
     "text": [
      "Started: [('EX_o2_m', 1.0, -25.806095721567843), ('EX_nh4_m', 0.0, -0.3004289070069514)]\n"
     ]
    },
    {
     "data": {
      "application/vnd.jupyter.widget-view+json": {
       "model_id": "1f6b0c16a85842888cd2082f1b3418f5",
       "version_major": 2,
       "version_minor": 0
      },
      "text/plain": [
       "Output()"
      ]
     },
     "metadata": {},
     "output_type": "display_data"
    },
    {
     "data": {
      "text/html": [
       "<pre style=\"white-space:pre;overflow-x:auto;line-height:normal;font-family:Menlo,'DejaVu Sans Mono',consolas,'Courier New',monospace\"></pre>\n"
      ],
      "text/plain": []
     },
     "metadata": {},
     "output_type": "display_data"
    },
    {
     "data": {
      "text/html": [
       "<pre style=\"white-space:pre;overflow-x:auto;line-height:normal;font-family:Menlo,'DejaVu Sans Mono',consolas,'Courier New',monospace\">\n",
       "</pre>\n"
      ],
      "text/plain": [
       "\n"
      ]
     },
     "metadata": {},
     "output_type": "display_data"
    },
    {
     "name": "stdout",
     "output_type": "stream",
     "text": [
      "Started: [('EX_o2_m', 1.0, -25.806095721567843), ('EX_nh4_m', 1.0, -2.395360661363543)]\n"
     ]
    },
    {
     "data": {
      "application/vnd.jupyter.widget-view+json": {
       "model_id": "5247ccd917a948e687a4c82fcb08598c",
       "version_major": 2,
       "version_minor": 0
      },
      "text/plain": [
       "Output()"
      ]
     },
     "metadata": {},
     "output_type": "display_data"
    },
    {
     "data": {
      "text/html": [
       "<pre style=\"white-space:pre;overflow-x:auto;line-height:normal;font-family:Menlo,'DejaVu Sans Mono',consolas,'Courier New',monospace\"></pre>\n"
      ],
      "text/plain": []
     },
     "metadata": {},
     "output_type": "display_data"
    },
    {
     "data": {
      "text/html": [
       "<pre style=\"white-space:pre;overflow-x:auto;line-height:normal;font-family:Menlo,'DejaVu Sans Mono',consolas,'Courier New',monospace\">\n",
       "</pre>\n"
      ],
      "text/plain": [
       "\n"
      ]
     },
     "metadata": {},
     "output_type": "display_data"
    },
    {
     "name": "stdout",
     "output_type": "stream",
     "text": [
      "Try number 0 margin = 0.5\n",
      "Biomass_Ecoli_core fum\n"
     ]
    },
    {
     "data": {
      "text/html": [
       "<pre style=\"white-space:pre;overflow-x:auto;line-height:normal;font-family:Menlo,'DejaVu Sans Mono',consolas,'Courier New',monospace\"><span style=\"color: #7fbfbf; text-decoration-color: #7fbfbf\">[18:34:28] </span><span style=\"color: #800000; text-decoration-color: #800000\">WARNING </span> Could not identify an external compartment by name and choosing one with   <a href=\"file:///opt/conda/envs/biotools/lib/python3.7/site-packages/cobra/medium/boundary_types.py\" target=\"_blank\"><span style=\"color: #7f7f7f; text-decoration-color: #7f7f7f\">boundary_types.py</span></a><span style=\"color: #7f7f7f; text-decoration-color: #7f7f7f\">:</span><a href=\"file:///opt/conda/envs/biotools/lib/python3.7/site-packages/cobra/medium/boundary_types.py#91\" target=\"_blank\"><span style=\"color: #7f7f7f; text-decoration-color: #7f7f7f\">91</span></a>\n",
       "<span style=\"color: #7fbfbf; text-decoration-color: #7fbfbf\">           </span>         the most boundary reactions. That might be complete nonsense or change     <span style=\"color: #7f7f7f; text-decoration-color: #7f7f7f\">                    </span>\n",
       "<span style=\"color: #7fbfbf; text-decoration-color: #7fbfbf\">           </span>         suddenly. Consider renaming your compartments using `Model.compartments`   <span style=\"color: #7f7f7f; text-decoration-color: #7f7f7f\">                    </span>\n",
       "<span style=\"color: #7fbfbf; text-decoration-color: #7fbfbf\">           </span>         to fix this.                                                               <span style=\"color: #7f7f7f; text-decoration-color: #7f7f7f\">                    </span>\n",
       "</pre>\n"
      ],
      "text/plain": [
       "\u001b[2;36m[18:34:28]\u001b[0m\u001b[2;36m \u001b[0m\u001b[31mWARNING \u001b[0m Could not identify an external compartment by name and choosing one with   \u001b]8;id=465188;file:///opt/conda/envs/biotools/lib/python3.7/site-packages/cobra/medium/boundary_types.py\u001b\\\u001b[2mboundary_types.py\u001b[0m\u001b]8;;\u001b\\\u001b[2m:\u001b[0m\u001b]8;id=101612;file:///opt/conda/envs/biotools/lib/python3.7/site-packages/cobra/medium/boundary_types.py#91\u001b\\\u001b[2m91\u001b[0m\u001b]8;;\u001b\\\n",
       "\u001b[2;36m           \u001b[0m         the most boundary reactions. That might be complete nonsense or change     \u001b[2m                    \u001b[0m\n",
       "\u001b[2;36m           \u001b[0m         suddenly. Consider renaming your compartments using `Model.compartments`   \u001b[2m                    \u001b[0m\n",
       "\u001b[2;36m           \u001b[0m         to fix this.                                                               \u001b[2m                    \u001b[0m\n"
      ]
     },
     "metadata": {},
     "output_type": "display_data"
    },
    {
     "name": "stdout",
     "output_type": "stream",
     "text": [
      "[[('SYN_D1P1P2_H(0)_M1(1)', [('M1', 'Biomass_Ecoli_core', 'fum', 1)])]]\n",
      "proc=1 inner_proc=8 total_inner_samps=1000\n",
      "Started: [('EX_o2_m', 0.0, -2.4630307886795566), ('EX_nh4_m', 0.0, -0.3004289070069514)]\n"
     ]
    },
    {
     "data": {
      "application/vnd.jupyter.widget-view+json": {
       "model_id": "24d2d0c4f06b4a3a91d74bb276ab65f2",
       "version_major": 2,
       "version_minor": 0
      },
      "text/plain": [
       "Output()"
      ]
     },
     "metadata": {},
     "output_type": "display_data"
    },
    {
     "data": {
      "text/html": [
       "<pre style=\"white-space:pre;overflow-x:auto;line-height:normal;font-family:Menlo,'DejaVu Sans Mono',consolas,'Courier New',monospace\"></pre>\n"
      ],
      "text/plain": []
     },
     "metadata": {},
     "output_type": "display_data"
    },
    {
     "data": {
      "text/html": [
       "<pre style=\"white-space:pre;overflow-x:auto;line-height:normal;font-family:Menlo,'DejaVu Sans Mono',consolas,'Courier New',monospace\">\n",
       "</pre>\n"
      ],
      "text/plain": [
       "\n"
      ]
     },
     "metadata": {},
     "output_type": "display_data"
    },
    {
     "name": "stdout",
     "output_type": "stream",
     "text": [
      "Started: [('EX_o2_m', 0.0, -2.4630307886795566), ('EX_nh4_m', 1.0, -2.395360661363543)]\n"
     ]
    },
    {
     "data": {
      "application/vnd.jupyter.widget-view+json": {
       "model_id": "2623832ae7014f4eb86be2416fc770e4",
       "version_major": 2,
       "version_minor": 0
      },
      "text/plain": [
       "Output()"
      ]
     },
     "metadata": {},
     "output_type": "display_data"
    },
    {
     "data": {
      "text/html": [
       "<pre style=\"white-space:pre;overflow-x:auto;line-height:normal;font-family:Menlo,'DejaVu Sans Mono',consolas,'Courier New',monospace\"></pre>\n"
      ],
      "text/plain": []
     },
     "metadata": {},
     "output_type": "display_data"
    },
    {
     "data": {
      "text/html": [
       "<pre style=\"white-space:pre;overflow-x:auto;line-height:normal;font-family:Menlo,'DejaVu Sans Mono',consolas,'Courier New',monospace\">\n",
       "</pre>\n"
      ],
      "text/plain": [
       "\n"
      ]
     },
     "metadata": {},
     "output_type": "display_data"
    },
    {
     "name": "stdout",
     "output_type": "stream",
     "text": [
      "Started: [('EX_o2_m', 1.0, -25.806095721567843), ('EX_nh4_m', 0.0, -0.3004289070069514)]\n"
     ]
    },
    {
     "data": {
      "application/vnd.jupyter.widget-view+json": {
       "model_id": "09e3c3a79f79437aafb6d24d555db486",
       "version_major": 2,
       "version_minor": 0
      },
      "text/plain": [
       "Output()"
      ]
     },
     "metadata": {},
     "output_type": "display_data"
    },
    {
     "data": {
      "text/html": [
       "<pre style=\"white-space:pre;overflow-x:auto;line-height:normal;font-family:Menlo,'DejaVu Sans Mono',consolas,'Courier New',monospace\"></pre>\n"
      ],
      "text/plain": []
     },
     "metadata": {},
     "output_type": "display_data"
    },
    {
     "data": {
      "text/html": [
       "<pre style=\"white-space:pre;overflow-x:auto;line-height:normal;font-family:Menlo,'DejaVu Sans Mono',consolas,'Courier New',monospace\">\n",
       "</pre>\n"
      ],
      "text/plain": [
       "\n"
      ]
     },
     "metadata": {},
     "output_type": "display_data"
    },
    {
     "name": "stdout",
     "output_type": "stream",
     "text": [
      "Started: [('EX_o2_m', 1.0, -25.806095721567843), ('EX_nh4_m', 1.0, -2.395360661363543)]\n"
     ]
    },
    {
     "data": {
      "application/vnd.jupyter.widget-view+json": {
       "model_id": "f5c6bed23ab442e7959774188bc582d9",
       "version_major": 2,
       "version_minor": 0
      },
      "text/plain": [
       "Output()"
      ]
     },
     "metadata": {},
     "output_type": "display_data"
    },
    {
     "data": {
      "text/html": [
       "<pre style=\"white-space:pre;overflow-x:auto;line-height:normal;font-family:Menlo,'DejaVu Sans Mono',consolas,'Courier New',monospace\"></pre>\n"
      ],
      "text/plain": []
     },
     "metadata": {},
     "output_type": "display_data"
    },
    {
     "data": {
      "text/html": [
       "<pre style=\"white-space:pre;overflow-x:auto;line-height:normal;font-family:Menlo,'DejaVu Sans Mono',consolas,'Courier New',monospace\">\n",
       "</pre>\n"
      ],
      "text/plain": [
       "\n"
      ]
     },
     "metadata": {},
     "output_type": "display_data"
    },
    {
     "name": "stdout",
     "output_type": "stream",
     "text": [
      "CPU times: user 17min 36s, sys: 1min 31s, total: 19min 7s\n",
      "Wall time: 14min 10s\n"
     ]
    }
   ],
   "source": [
    "%%time\n",
    "%pdb off\n",
    "import traceback\n",
    "import copy\n",
    "from pathlib import Path\n",
    "\n",
    "data = None\n",
    "results_full = []\n",
    "\n",
    "# failsafe assertion\n",
    "assert(pathways is None or len(pathways) == sets_of_samples, \n",
    "       \"pathways, if specified, must be the same lenght as sets_of_samples\")\n",
    "\n",
    "# number of retries\n",
    "max_retries = 10\n",
    "\n",
    "# ugly workaround to generate datasets with just one pathway\n",
    "orig_set_nr = set_nr\n",
    "orig_pathways = copy.deepcopy(pathways)\n",
    "\n",
    "if pathways is None:\n",
    "    orig_pathways = [[None] * 1 ]\n",
    "\n",
    "# the outer loop should be removed later on\n",
    "for path_idx, pathway in enumerate(orig_pathways[0]):\n",
    "    pathways = [[pathway]] if pathway is not None else None  # replace with None if passed none\n",
    "\n",
    "    # no set number\n",
    "    if orig_set_nr is not None:\n",
    "        set_nr = orig_set_nr * 100 + path_idx + 1  # for multiple pathways - use a 3 digit identifier\n",
    "        path_prefix = f'{base_dir}/SET{set_nr}_L{n_levels}_M{n_microbes}_T{thinning}'\n",
    "    else:\n",
    "        path_prefix = f'{base_dir}/L{n_levels}_M{n_microbes}_T{thinning}_NH{num_host}_NM{num_microbe}_NHM{num_host_microbe}'\n",
    "\n",
    "    print('=' * 40, 'GENERATING FOR:', set_nr, '--', pathways, '--', path_prefix , '=' * 40, '\\n'*4)\n",
    "    \n",
    "    for margin in margins:\n",
    "        result_full = None  # initialize it\n",
    "\n",
    "        for retry in range(max_retries):\n",
    "            set_all_seeds(get_current_seed())  # set the seed again\n",
    "            \n",
    "            comm = copy.deepcopy(community)  # copy it back\n",
    "            print(f'Try number {retry} margin = {margin}')\n",
    "            try:\n",
    "                # either use specs or or insert hardcode pathways\n",
    "                if pathways is None:\n",
    "                    # pathway was not hardcoded - create specs and insert the resulting pathway\n",
    "                    spec = create_specs(n_sets=n_sets, n_h=num_host, n_h_hm=num_host_microbe, n_m=num_microbe, spec=pathway_spec, microbe_org_spec=microbe_spec)\n",
    "                    result_full = insert_spec(comm, exp_designer, spec)\n",
    "                    pathways = simulator.builder.extract_hardcoded_pathways([result_full])\n",
    "                else:\n",
    "                    # insert the fixed pathways\n",
    "                    result_full = insert_fixes_pathways(comm, pathways[0])\n",
    "                print(simulator.builder.extract_hardcoded_pathways([result_full]))\n",
    "                path = path_prefix + f'_MG{margin}/'\n",
    "                if not Path(path).exists():\n",
    "                    data = simulate_and_save(com = comm, path_prefix=path, thinning=thinning, levels=n_levels, results_full=result_full, margin=margin)\n",
    "                break  # Exit the retry loop if successful\n",
    "            except Exception as e:\n",
    "                print(f\"Retry {retry + 1} failed with exception: {str(e)}\")\n",
    "                traceback.print_exc()  # Print traceback information\n",
    "                if retry + 1 == max_retries:\n",
    "                    print(\"Max retries reached. Moving on.\")\n",
    "                raise e\n",
    "\n",
    "        # add the full results\n",
    "        results_full.append(result_full)"
   ]
  },
  {
   "cell_type": "markdown",
   "id": "ec256158-bd41-4324-93f8-c71b27551d54",
   "metadata": {},
   "source": [
    "## HARDCODING\n",
    "\n",
    "If you want to hardcode the current model and parameters, just copy and paste the code outputted below and paste it in the cell at the top with the other specs"
   ]
  },
  {
   "cell_type": "code",
   "execution_count": 10,
   "id": "e1835c03-0f48-4562-8370-eac6f13c6a24",
   "metadata": {},
   "outputs": [
    {
     "name": "stdout",
     "output_type": "stream",
     "text": [
      "set_nr = 1.03 \n",
      "\n",
      "n_microbes = 10 \n",
      "\n",
      "knockouts = [ ['MALt2_2', 'ME1', 'GLUDy'],\n",
      "  ['FBA'],\n",
      "  ['SUCOAS', 'GLUDy'],\n",
      "  ['RPE'],\n",
      "  ['PTAr', 'NADH16'],\n",
      "  ['PYRt2', 'PTAr', 'ACt2r'],\n",
      "  ['H2Ot'],\n",
      "  ['D_LACt2'],\n",
      "  ['FBA', 'FORti'],\n",
      "  ['CO2t', 'NADTRHD']] \n",
      "\n",
      "exp_factors = [ { 'max': -2.4630307886795566,\n",
      "    'min': -25.806095721567843,\n",
      "    'range': 23.343064932888286,\n",
      "    'reaction': 'EX_o2_e'},\n",
      "  { 'max': -0.3004289070069514,\n",
      "    'min': -2.395360661363543,\n",
      "    'range': 2.0949317543565917,\n",
      "    'reaction': 'EX_nh4_e'}] \n",
      "\n",
      "pathways = [[('SYN_D1P1P2_H(1)_M5(0)', [('H', 'ACONTb', 'q8h2', 1)])]]\n"
     ]
    }
   ],
   "source": [
    "pp = pprint.PrettyPrinter(indent=2)\n",
    "    \n",
    "print('set_nr =', set_nr / 100, '\\n')\n",
    "print('n_microbes =', n_microbes, '\\n')\n",
    "print('knockouts =', pp.pformat(knockouts), '\\n')\n",
    "print('exp_factors =', pp.pformat(exp_designer._exp_factors.iloc[:2].to_dict(orient='records')), '\\n')\n",
    "print('pathways =', pp.pformat([simulator.builder.extract_hardcoded_pathways(results_full)[0]]))\n"
   ]
  }
 ],
 "metadata": {
  "kernelspec": {
   "display_name": "biotools",
   "language": "python",
   "name": "biotools"
  },
  "language_info": {
   "codemirror_mode": {
    "name": "ipython",
    "version": 3
   },
   "file_extension": ".py",
   "mimetype": "text/x-python",
   "name": "python",
   "nbconvert_exporter": "python",
   "pygments_lexer": "ipython3",
   "version": "3.7.12"
  }
 },
 "nbformat": 4,
 "nbformat_minor": 5
}
